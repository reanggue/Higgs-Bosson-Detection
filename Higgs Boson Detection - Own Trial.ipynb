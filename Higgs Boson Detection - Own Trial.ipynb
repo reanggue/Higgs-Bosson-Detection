{
 "cells": [
  {
   "cell_type": "markdown",
   "metadata": {
    "slideshow": {
     "slide_type": "slide"
    }
   },
   "source": [
    "# Machine Learning Process <font color='blue'> Flowchart </font>:\n",
    "### 1. <font color='blue'> Importing Data to Python</font> \n",
    "    * Drop Duplicates \n",
    "### 2. <font color='blue'> Data Preprocessing:</font> \n",
    "    * Input-Output Split, Train-Test Split\n",
    "    * Imputation, Processing Categorical, Normalization \n",
    "### 3. <font color='blue'> Training Machine Learning:</font> \n",
    "    * Choose Score to optimize and Hyperparameter Space\n",
    "    * Cross-Validation: Random vs Grid Search CV\n",
    "### 4. <font color='blue'>  Save Models and Deploy Models as an API</font>"
   ]
  },
  {
   "cell_type": "markdown",
   "metadata": {
    "slideshow": {
     "slide_type": "slide"
    }
   },
   "source": [
    "# Higgs Boson Dataset:\n",
    "\n",
    "* <font color='blue'> All Variables </font> are numerical variables, except <font color='blue'> PRI_jet_num </font> which is cateroical variable\n",
    "\n",
    "* Variables prefixed with <font color='blue'> PRI </font> (for PRImitives) are “raw” quantities about the bunch collision as measured by the detector.\n",
    "\n",
    "* variables prefixed with <font color='blue'> DER </font> (for DERived) are quantities computed from the primitive features, which were selected by  the physicists of ATLAS\n",
    "\n",
    "* it can happen that for <font color='blue'> some entries some variables are meaningless </font> or cannot be computed; in this case, <font color='blue'> their value is −999.0 </font>, which is outside the normal range of all variables (−999.0 is missing value)"
   ]
  },
  {
   "cell_type": "markdown",
   "metadata": {},
   "source": [
    "## 1. <font color='blue'> Importing Data to Python</font>"
   ]
  },
  {
   "cell_type": "code",
   "execution_count": 2,
   "metadata": {
    "collapsed": true,
    "slideshow": {
     "slide_type": "slide"
    }
   },
   "outputs": [],
   "source": [
    "# first step in every code\n",
    "import pandas as pd #import library dengan nama pd\n",
    "import numpy as np #import numpy dengan nama np"
   ]
  },
  {
   "cell_type": "code",
   "execution_count": 7,
   "metadata": {
    "collapsed": true
   },
   "outputs": [
    {
     "ename": "IOError",
     "evalue": "File Kaggle/train.csv does not exist",
     "output_type": "error",
     "traceback": [
      "\u001b[0;31m---------------------------------------------------------------------------\u001b[0m",
      "\u001b[0;31mIOError\u001b[0m                                   Traceback (most recent call last)",
      "\u001b[0;32m<ipython-input-7-08646174f588>\u001b[0m in \u001b[0;36m<module>\u001b[0;34m()\u001b[0m\n\u001b[0;32m----> 1\u001b[0;31m \u001b[0mtrain\u001b[0m \u001b[1;33m=\u001b[0m \u001b[0mpd\u001b[0m\u001b[1;33m.\u001b[0m\u001b[0mread_csv\u001b[0m\u001b[1;33m(\u001b[0m\u001b[1;34m'Kaggle/train.csv'\u001b[0m\u001b[1;33m)\u001b[0m \u001b[1;31m# read the training.csv file\u001b[0m\u001b[1;33m\u001b[0m\u001b[0m\n\u001b[0m\u001b[1;32m      2\u001b[0m \u001b[0mtest\u001b[0m \u001b[1;33m=\u001b[0m \u001b[0mpd\u001b[0m\u001b[1;33m.\u001b[0m\u001b[0mread_csv\u001b[0m\u001b[1;33m(\u001b[0m\u001b[1;34m'Kaggle/April 2017/test/test.csv'\u001b[0m\u001b[1;33m)\u001b[0m \u001b[1;31m# read the training.csv file\u001b[0m\u001b[1;33m\u001b[0m\u001b[0m\n\u001b[1;32m      3\u001b[0m \u001b[1;31m#data = data.drop(\"EventId\", axis = 1) # drop \"EventId\" columns because we don't get any information from this column\u001b[0m\u001b[1;33m\u001b[0m\u001b[1;33m\u001b[0m\u001b[0m\n",
      "\u001b[0;32mC:\\ProgramData\\Anaconda2\\lib\\site-packages\\pandas\\io\\parsers.py\u001b[0m in \u001b[0;36mparser_f\u001b[0;34m(filepath_or_buffer, sep, delimiter, header, names, index_col, usecols, squeeze, prefix, mangle_dupe_cols, dtype, engine, converters, true_values, false_values, skipinitialspace, skiprows, nrows, na_values, keep_default_na, na_filter, verbose, skip_blank_lines, parse_dates, infer_datetime_format, keep_date_col, date_parser, dayfirst, iterator, chunksize, compression, thousands, decimal, lineterminator, quotechar, quoting, escapechar, comment, encoding, dialect, tupleize_cols, error_bad_lines, warn_bad_lines, skipfooter, skip_footer, doublequote, delim_whitespace, as_recarray, compact_ints, use_unsigned, low_memory, buffer_lines, memory_map, float_precision)\u001b[0m\n\u001b[1;32m    644\u001b[0m                     skip_blank_lines=skip_blank_lines)\n\u001b[1;32m    645\u001b[0m \u001b[1;33m\u001b[0m\u001b[0m\n\u001b[0;32m--> 646\u001b[0;31m         \u001b[1;32mreturn\u001b[0m \u001b[0m_read\u001b[0m\u001b[1;33m(\u001b[0m\u001b[0mfilepath_or_buffer\u001b[0m\u001b[1;33m,\u001b[0m \u001b[0mkwds\u001b[0m\u001b[1;33m)\u001b[0m\u001b[1;33m\u001b[0m\u001b[0m\n\u001b[0m\u001b[1;32m    647\u001b[0m \u001b[1;33m\u001b[0m\u001b[0m\n\u001b[1;32m    648\u001b[0m     \u001b[0mparser_f\u001b[0m\u001b[1;33m.\u001b[0m\u001b[0m__name__\u001b[0m \u001b[1;33m=\u001b[0m \u001b[0mname\u001b[0m\u001b[1;33m\u001b[0m\u001b[0m\n",
      "\u001b[0;32mC:\\ProgramData\\Anaconda2\\lib\\site-packages\\pandas\\io\\parsers.py\u001b[0m in \u001b[0;36m_read\u001b[0;34m(filepath_or_buffer, kwds)\u001b[0m\n\u001b[1;32m    387\u001b[0m \u001b[1;33m\u001b[0m\u001b[0m\n\u001b[1;32m    388\u001b[0m     \u001b[1;31m# Create the parser.\u001b[0m\u001b[1;33m\u001b[0m\u001b[1;33m\u001b[0m\u001b[0m\n\u001b[0;32m--> 389\u001b[0;31m     \u001b[0mparser\u001b[0m \u001b[1;33m=\u001b[0m \u001b[0mTextFileReader\u001b[0m\u001b[1;33m(\u001b[0m\u001b[0mfilepath_or_buffer\u001b[0m\u001b[1;33m,\u001b[0m \u001b[1;33m**\u001b[0m\u001b[0mkwds\u001b[0m\u001b[1;33m)\u001b[0m\u001b[1;33m\u001b[0m\u001b[0m\n\u001b[0m\u001b[1;32m    390\u001b[0m \u001b[1;33m\u001b[0m\u001b[0m\n\u001b[1;32m    391\u001b[0m     \u001b[1;32mif\u001b[0m \u001b[1;33m(\u001b[0m\u001b[0mnrows\u001b[0m \u001b[1;32mis\u001b[0m \u001b[1;32mnot\u001b[0m \u001b[0mNone\u001b[0m\u001b[1;33m)\u001b[0m \u001b[1;32mand\u001b[0m \u001b[1;33m(\u001b[0m\u001b[0mchunksize\u001b[0m \u001b[1;32mis\u001b[0m \u001b[1;32mnot\u001b[0m \u001b[0mNone\u001b[0m\u001b[1;33m)\u001b[0m\u001b[1;33m:\u001b[0m\u001b[1;33m\u001b[0m\u001b[0m\n",
      "\u001b[0;32mC:\\ProgramData\\Anaconda2\\lib\\site-packages\\pandas\\io\\parsers.py\u001b[0m in \u001b[0;36m__init__\u001b[0;34m(self, f, engine, **kwds)\u001b[0m\n\u001b[1;32m    728\u001b[0m             \u001b[0mself\u001b[0m\u001b[1;33m.\u001b[0m\u001b[0moptions\u001b[0m\u001b[1;33m[\u001b[0m\u001b[1;34m'has_index_names'\u001b[0m\u001b[1;33m]\u001b[0m \u001b[1;33m=\u001b[0m \u001b[0mkwds\u001b[0m\u001b[1;33m[\u001b[0m\u001b[1;34m'has_index_names'\u001b[0m\u001b[1;33m]\u001b[0m\u001b[1;33m\u001b[0m\u001b[0m\n\u001b[1;32m    729\u001b[0m \u001b[1;33m\u001b[0m\u001b[0m\n\u001b[0;32m--> 730\u001b[0;31m         \u001b[0mself\u001b[0m\u001b[1;33m.\u001b[0m\u001b[0m_make_engine\u001b[0m\u001b[1;33m(\u001b[0m\u001b[0mself\u001b[0m\u001b[1;33m.\u001b[0m\u001b[0mengine\u001b[0m\u001b[1;33m)\u001b[0m\u001b[1;33m\u001b[0m\u001b[0m\n\u001b[0m\u001b[1;32m    731\u001b[0m \u001b[1;33m\u001b[0m\u001b[0m\n\u001b[1;32m    732\u001b[0m     \u001b[1;32mdef\u001b[0m \u001b[0mclose\u001b[0m\u001b[1;33m(\u001b[0m\u001b[0mself\u001b[0m\u001b[1;33m)\u001b[0m\u001b[1;33m:\u001b[0m\u001b[1;33m\u001b[0m\u001b[0m\n",
      "\u001b[0;32mC:\\ProgramData\\Anaconda2\\lib\\site-packages\\pandas\\io\\parsers.py\u001b[0m in \u001b[0;36m_make_engine\u001b[0;34m(self, engine)\u001b[0m\n\u001b[1;32m    921\u001b[0m     \u001b[1;32mdef\u001b[0m \u001b[0m_make_engine\u001b[0m\u001b[1;33m(\u001b[0m\u001b[0mself\u001b[0m\u001b[1;33m,\u001b[0m \u001b[0mengine\u001b[0m\u001b[1;33m=\u001b[0m\u001b[1;34m'c'\u001b[0m\u001b[1;33m)\u001b[0m\u001b[1;33m:\u001b[0m\u001b[1;33m\u001b[0m\u001b[0m\n\u001b[1;32m    922\u001b[0m         \u001b[1;32mif\u001b[0m \u001b[0mengine\u001b[0m \u001b[1;33m==\u001b[0m \u001b[1;34m'c'\u001b[0m\u001b[1;33m:\u001b[0m\u001b[1;33m\u001b[0m\u001b[0m\n\u001b[0;32m--> 923\u001b[0;31m             \u001b[0mself\u001b[0m\u001b[1;33m.\u001b[0m\u001b[0m_engine\u001b[0m \u001b[1;33m=\u001b[0m \u001b[0mCParserWrapper\u001b[0m\u001b[1;33m(\u001b[0m\u001b[0mself\u001b[0m\u001b[1;33m.\u001b[0m\u001b[0mf\u001b[0m\u001b[1;33m,\u001b[0m \u001b[1;33m**\u001b[0m\u001b[0mself\u001b[0m\u001b[1;33m.\u001b[0m\u001b[0moptions\u001b[0m\u001b[1;33m)\u001b[0m\u001b[1;33m\u001b[0m\u001b[0m\n\u001b[0m\u001b[1;32m    924\u001b[0m         \u001b[1;32melse\u001b[0m\u001b[1;33m:\u001b[0m\u001b[1;33m\u001b[0m\u001b[0m\n\u001b[1;32m    925\u001b[0m             \u001b[1;32mif\u001b[0m \u001b[0mengine\u001b[0m \u001b[1;33m==\u001b[0m \u001b[1;34m'python'\u001b[0m\u001b[1;33m:\u001b[0m\u001b[1;33m\u001b[0m\u001b[0m\n",
      "\u001b[0;32mC:\\ProgramData\\Anaconda2\\lib\\site-packages\\pandas\\io\\parsers.py\u001b[0m in \u001b[0;36m__init__\u001b[0;34m(self, src, **kwds)\u001b[0m\n\u001b[1;32m   1388\u001b[0m         \u001b[0mkwds\u001b[0m\u001b[1;33m[\u001b[0m\u001b[1;34m'allow_leading_cols'\u001b[0m\u001b[1;33m]\u001b[0m \u001b[1;33m=\u001b[0m \u001b[0mself\u001b[0m\u001b[1;33m.\u001b[0m\u001b[0mindex_col\u001b[0m \u001b[1;32mis\u001b[0m \u001b[1;32mnot\u001b[0m \u001b[0mFalse\u001b[0m\u001b[1;33m\u001b[0m\u001b[0m\n\u001b[1;32m   1389\u001b[0m \u001b[1;33m\u001b[0m\u001b[0m\n\u001b[0;32m-> 1390\u001b[0;31m         \u001b[0mself\u001b[0m\u001b[1;33m.\u001b[0m\u001b[0m_reader\u001b[0m \u001b[1;33m=\u001b[0m \u001b[0m_parser\u001b[0m\u001b[1;33m.\u001b[0m\u001b[0mTextReader\u001b[0m\u001b[1;33m(\u001b[0m\u001b[0msrc\u001b[0m\u001b[1;33m,\u001b[0m \u001b[1;33m**\u001b[0m\u001b[0mkwds\u001b[0m\u001b[1;33m)\u001b[0m\u001b[1;33m\u001b[0m\u001b[0m\n\u001b[0m\u001b[1;32m   1391\u001b[0m \u001b[1;33m\u001b[0m\u001b[0m\n\u001b[1;32m   1392\u001b[0m         \u001b[1;31m# XXX\u001b[0m\u001b[1;33m\u001b[0m\u001b[1;33m\u001b[0m\u001b[0m\n",
      "\u001b[0;32mpandas\\parser.pyx\u001b[0m in \u001b[0;36mpandas.parser.TextReader.__cinit__ (pandas\\parser.c:4184)\u001b[0;34m()\u001b[0m\n",
      "\u001b[0;32mpandas\\parser.pyx\u001b[0m in \u001b[0;36mpandas.parser.TextReader._setup_parser_source (pandas\\parser.c:8449)\u001b[0;34m()\u001b[0m\n",
      "\u001b[0;31mIOError\u001b[0m: File Kaggle/train.csv does not exist"
     ]
    }
   ],
   "source": [
    "train = pd.read_csv('Kaggle/train.csv') # read the training.csv file\n",
    "test = pd.read_csv('Kaggle/April 2017/test/test.csv') # read the training.csv file\n",
    "#data = data.drop(\"EventId\", axis = 1) # drop \"EventId\" columns because we don't get any information from this column\n"
   ]
  },
  {
   "cell_type": "code",
   "execution_count": 4,
   "metadata": {
    "collapsed": false
   },
   "outputs": [
    {
     "data": {
      "text/html": [
       "<div>\n",
       "<table border=\"1\" class=\"dataframe\">\n",
       "  <thead>\n",
       "    <tr style=\"text-align: right;\">\n",
       "      <th></th>\n",
       "      <th>EventId</th>\n",
       "      <th>DER_mass_MMC</th>\n",
       "      <th>DER_mass_transverse_met_lep</th>\n",
       "      <th>DER_mass_vis</th>\n",
       "      <th>DER_pt_h</th>\n",
       "      <th>DER_deltaeta_jet_jet</th>\n",
       "      <th>DER_mass_jet_jet</th>\n",
       "      <th>DER_prodeta_jet_jet</th>\n",
       "      <th>DER_deltar_tau_lep</th>\n",
       "      <th>DER_pt_tot</th>\n",
       "      <th>...</th>\n",
       "      <th>PRI_met_sumet</th>\n",
       "      <th>PRI_jet_num</th>\n",
       "      <th>PRI_jet_leading_pt</th>\n",
       "      <th>PRI_jet_leading_eta</th>\n",
       "      <th>PRI_jet_leading_phi</th>\n",
       "      <th>PRI_jet_subleading_pt</th>\n",
       "      <th>PRI_jet_subleading_eta</th>\n",
       "      <th>PRI_jet_subleading_phi</th>\n",
       "      <th>PRI_jet_all_pt</th>\n",
       "      <th>Label</th>\n",
       "    </tr>\n",
       "  </thead>\n",
       "  <tbody>\n",
       "    <tr>\n",
       "      <th>0</th>\n",
       "      <td>100000</td>\n",
       "      <td>138.470</td>\n",
       "      <td>51.655</td>\n",
       "      <td>97.827</td>\n",
       "      <td>27.980</td>\n",
       "      <td>0.91</td>\n",
       "      <td>124.711</td>\n",
       "      <td>2.666</td>\n",
       "      <td>3.064</td>\n",
       "      <td>41.928</td>\n",
       "      <td>...</td>\n",
       "      <td>258.733</td>\n",
       "      <td>2.0</td>\n",
       "      <td>67.435</td>\n",
       "      <td>2.150</td>\n",
       "      <td>0.444</td>\n",
       "      <td>46.062</td>\n",
       "      <td>1.24</td>\n",
       "      <td>-2.475</td>\n",
       "      <td>113.497</td>\n",
       "      <td>s</td>\n",
       "    </tr>\n",
       "    <tr>\n",
       "      <th>1</th>\n",
       "      <td>100001</td>\n",
       "      <td>160.937</td>\n",
       "      <td>68.768</td>\n",
       "      <td>103.235</td>\n",
       "      <td>48.146</td>\n",
       "      <td>-999.00</td>\n",
       "      <td>-999.000</td>\n",
       "      <td>-999.000</td>\n",
       "      <td>3.473</td>\n",
       "      <td>2.078</td>\n",
       "      <td>...</td>\n",
       "      <td>164.546</td>\n",
       "      <td>1.0</td>\n",
       "      <td>46.226</td>\n",
       "      <td>0.725</td>\n",
       "      <td>1.158</td>\n",
       "      <td>-999.000</td>\n",
       "      <td>-999.00</td>\n",
       "      <td>-999.000</td>\n",
       "      <td>46.226</td>\n",
       "      <td>b</td>\n",
       "    </tr>\n",
       "    <tr>\n",
       "      <th>2</th>\n",
       "      <td>100002</td>\n",
       "      <td>-999.000</td>\n",
       "      <td>162.172</td>\n",
       "      <td>125.953</td>\n",
       "      <td>35.635</td>\n",
       "      <td>-999.00</td>\n",
       "      <td>-999.000</td>\n",
       "      <td>-999.000</td>\n",
       "      <td>3.148</td>\n",
       "      <td>9.336</td>\n",
       "      <td>...</td>\n",
       "      <td>260.414</td>\n",
       "      <td>1.0</td>\n",
       "      <td>44.251</td>\n",
       "      <td>2.053</td>\n",
       "      <td>-2.028</td>\n",
       "      <td>-999.000</td>\n",
       "      <td>-999.00</td>\n",
       "      <td>-999.000</td>\n",
       "      <td>44.251</td>\n",
       "      <td>b</td>\n",
       "    </tr>\n",
       "    <tr>\n",
       "      <th>3</th>\n",
       "      <td>100003</td>\n",
       "      <td>143.905</td>\n",
       "      <td>81.417</td>\n",
       "      <td>80.943</td>\n",
       "      <td>0.414</td>\n",
       "      <td>-999.00</td>\n",
       "      <td>-999.000</td>\n",
       "      <td>-999.000</td>\n",
       "      <td>3.310</td>\n",
       "      <td>0.414</td>\n",
       "      <td>...</td>\n",
       "      <td>86.062</td>\n",
       "      <td>0.0</td>\n",
       "      <td>-999.000</td>\n",
       "      <td>-999.000</td>\n",
       "      <td>-999.000</td>\n",
       "      <td>-999.000</td>\n",
       "      <td>-999.00</td>\n",
       "      <td>-999.000</td>\n",
       "      <td>0.000</td>\n",
       "      <td>b</td>\n",
       "    </tr>\n",
       "    <tr>\n",
       "      <th>4</th>\n",
       "      <td>100004</td>\n",
       "      <td>175.864</td>\n",
       "      <td>16.915</td>\n",
       "      <td>134.805</td>\n",
       "      <td>16.405</td>\n",
       "      <td>-999.00</td>\n",
       "      <td>-999.000</td>\n",
       "      <td>-999.000</td>\n",
       "      <td>3.891</td>\n",
       "      <td>16.405</td>\n",
       "      <td>...</td>\n",
       "      <td>53.131</td>\n",
       "      <td>0.0</td>\n",
       "      <td>-999.000</td>\n",
       "      <td>-999.000</td>\n",
       "      <td>-999.000</td>\n",
       "      <td>-999.000</td>\n",
       "      <td>-999.00</td>\n",
       "      <td>-999.000</td>\n",
       "      <td>0.000</td>\n",
       "      <td>b</td>\n",
       "    </tr>\n",
       "  </tbody>\n",
       "</table>\n",
       "<p>5 rows × 32 columns</p>\n",
       "</div>"
      ],
      "text/plain": [
       "   EventId  DER_mass_MMC  DER_mass_transverse_met_lep  DER_mass_vis  DER_pt_h  \\\n",
       "0   100000       138.470                       51.655        97.827    27.980   \n",
       "1   100001       160.937                       68.768       103.235    48.146   \n",
       "2   100002      -999.000                      162.172       125.953    35.635   \n",
       "3   100003       143.905                       81.417        80.943     0.414   \n",
       "4   100004       175.864                       16.915       134.805    16.405   \n",
       "\n",
       "   DER_deltaeta_jet_jet  DER_mass_jet_jet  DER_prodeta_jet_jet  \\\n",
       "0                  0.91           124.711                2.666   \n",
       "1               -999.00          -999.000             -999.000   \n",
       "2               -999.00          -999.000             -999.000   \n",
       "3               -999.00          -999.000             -999.000   \n",
       "4               -999.00          -999.000             -999.000   \n",
       "\n",
       "   DER_deltar_tau_lep  DER_pt_tot  ...    PRI_met_sumet  PRI_jet_num  \\\n",
       "0               3.064      41.928  ...          258.733          2.0   \n",
       "1               3.473       2.078  ...          164.546          1.0   \n",
       "2               3.148       9.336  ...          260.414          1.0   \n",
       "3               3.310       0.414  ...           86.062          0.0   \n",
       "4               3.891      16.405  ...           53.131          0.0   \n",
       "\n",
       "   PRI_jet_leading_pt  PRI_jet_leading_eta  PRI_jet_leading_phi  \\\n",
       "0              67.435                2.150                0.444   \n",
       "1              46.226                0.725                1.158   \n",
       "2              44.251                2.053               -2.028   \n",
       "3            -999.000             -999.000             -999.000   \n",
       "4            -999.000             -999.000             -999.000   \n",
       "\n",
       "   PRI_jet_subleading_pt  PRI_jet_subleading_eta  PRI_jet_subleading_phi  \\\n",
       "0                 46.062                    1.24                  -2.475   \n",
       "1               -999.000                 -999.00                -999.000   \n",
       "2               -999.000                 -999.00                -999.000   \n",
       "3               -999.000                 -999.00                -999.000   \n",
       "4               -999.000                 -999.00                -999.000   \n",
       "\n",
       "   PRI_jet_all_pt  Label  \n",
       "0         113.497      s  \n",
       "1          46.226      b  \n",
       "2          44.251      b  \n",
       "3           0.000      b  \n",
       "4           0.000      b  \n",
       "\n",
       "[5 rows x 32 columns]"
      ]
     },
     "execution_count": 4,
     "metadata": {},
     "output_type": "execute_result"
    }
   ],
   "source": [
    "data.head()"
   ]
  },
  {
   "cell_type": "code",
   "execution_count": 6,
   "metadata": {
    "collapsed": false
   },
   "outputs": [
    {
     "data": {
      "text/plain": [
       "133119    0.000013\n",
       "162458    0.000013\n",
       "174720    0.000013\n",
       "172673    0.000013\n",
       "166532    0.000013\n",
       "164485    0.000013\n",
       "170630    0.000013\n",
       "168583    0.000013\n",
       "141968    0.000013\n",
       "139921    0.000013\n",
       "146066    0.000013\n",
       "144019    0.000013\n",
       "133780    0.000013\n",
       "131733    0.000013\n",
       "137878    0.000013\n",
       "135831    0.000013\n",
       "158360    0.000013\n",
       "119407    0.000013\n",
       "121454    0.000013\n",
       "115309    0.000013\n",
       "111203    0.000013\n",
       "148061    0.000013\n",
       "154206    0.000013\n",
       "152159    0.000013\n",
       "109152    0.000013\n",
       "107105    0.000013\n",
       "113250    0.000013\n",
       "100964    0.000013\n",
       "117356    0.000013\n",
       "105062    0.000013\n",
       "            ...   \n",
       "118099    0.000013\n",
       "128340    0.000013\n",
       "130389    0.000013\n",
       "126295    0.000013\n",
       "167227    0.000013\n",
       "103768    0.000013\n",
       "105817    0.000013\n",
       "101723    0.000013\n",
       "111964    0.000013\n",
       "114013    0.000013\n",
       "107870    0.000013\n",
       "173374    0.000013\n",
       "165178    0.000013\n",
       "148770    0.000013\n",
       "138537    0.000013\n",
       "150819    0.000013\n",
       "161060    0.000013\n",
       "163109    0.000013\n",
       "156966    0.000013\n",
       "159015    0.000013\n",
       "136488    0.000013\n",
       "132394    0.000013\n",
       "171321    0.000013\n",
       "134443    0.000013\n",
       "144684    0.000013\n",
       "146733    0.000013\n",
       "140590    0.000013\n",
       "142639    0.000013\n",
       "169272    0.000013\n",
       "131072    0.000013\n",
       "Name: EventId, dtype: float64"
      ]
     },
     "execution_count": 6,
     "metadata": {},
     "output_type": "execute_result"
    }
   ],
   "source": [
    "data['EventId'].value_counts(normalize=True)"
   ]
  },
  {
   "cell_type": "code",
   "execution_count": 7,
   "metadata": {
    "collapsed": true
   },
   "outputs": [],
   "source": [
    "data = data.drop(['EventId'],axis=1)"
   ]
  },
  {
   "cell_type": "code",
   "execution_count": 8,
   "metadata": {
    "collapsed": false
   },
   "outputs": [
    {
     "data": {
      "text/plain": [
       "Index([u'DER_mass_MMC', u'DER_mass_transverse_met_lep', u'DER_mass_vis',\n",
       "       u'DER_pt_h', u'DER_deltaeta_jet_jet', u'DER_mass_jet_jet',\n",
       "       u'DER_prodeta_jet_jet', u'DER_deltar_tau_lep', u'DER_pt_tot',\n",
       "       u'DER_sum_pt', u'DER_pt_ratio_lep_tau', u'DER_met_phi_centrality',\n",
       "       u'DER_lep_eta_centrality', u'PRI_tau_pt', u'PRI_tau_eta',\n",
       "       u'PRI_tau_phi', u'PRI_lep_pt', u'PRI_lep_eta', u'PRI_lep_phi',\n",
       "       u'PRI_met', u'PRI_met_phi', u'PRI_met_sumet', u'PRI_jet_num',\n",
       "       u'PRI_jet_leading_pt', u'PRI_jet_leading_eta', u'PRI_jet_leading_phi',\n",
       "       u'PRI_jet_subleading_pt', u'PRI_jet_subleading_eta',\n",
       "       u'PRI_jet_subleading_phi', u'PRI_jet_all_pt', u'Label'],\n",
       "      dtype='object')"
      ]
     },
     "execution_count": 8,
     "metadata": {},
     "output_type": "execute_result"
    }
   ],
   "source": [
    "data.columns"
   ]
  },
  {
   "cell_type": "code",
   "execution_count": 3,
   "metadata": {
    "collapsed": false
   },
   "outputs": [
    {
     "data": {
      "text/html": [
       "<div>\n",
       "<table border=\"1\" class=\"dataframe\">\n",
       "  <thead>\n",
       "    <tr style=\"text-align: right;\">\n",
       "      <th></th>\n",
       "      <th>DER_mass_MMC</th>\n",
       "      <th>DER_mass_transverse_met_lep</th>\n",
       "      <th>DER_mass_vis</th>\n",
       "      <th>DER_pt_h</th>\n",
       "      <th>DER_deltaeta_jet_jet</th>\n",
       "      <th>DER_mass_jet_jet</th>\n",
       "      <th>DER_prodeta_jet_jet</th>\n",
       "      <th>DER_deltar_tau_lep</th>\n",
       "      <th>DER_pt_tot</th>\n",
       "      <th>DER_sum_pt</th>\n",
       "      <th>...</th>\n",
       "      <th>PRI_met_sumet</th>\n",
       "      <th>PRI_jet_num</th>\n",
       "      <th>PRI_jet_leading_pt</th>\n",
       "      <th>PRI_jet_leading_eta</th>\n",
       "      <th>PRI_jet_leading_phi</th>\n",
       "      <th>PRI_jet_subleading_pt</th>\n",
       "      <th>PRI_jet_subleading_eta</th>\n",
       "      <th>PRI_jet_subleading_phi</th>\n",
       "      <th>PRI_jet_all_pt</th>\n",
       "      <th>Label</th>\n",
       "    </tr>\n",
       "  </thead>\n",
       "  <tbody>\n",
       "    <tr>\n",
       "      <th>0</th>\n",
       "      <td>138.470</td>\n",
       "      <td>51.655</td>\n",
       "      <td>97.827</td>\n",
       "      <td>27.980</td>\n",
       "      <td>0.91</td>\n",
       "      <td>124.711</td>\n",
       "      <td>2.666</td>\n",
       "      <td>3.064</td>\n",
       "      <td>41.928</td>\n",
       "      <td>197.760</td>\n",
       "      <td>...</td>\n",
       "      <td>258.733</td>\n",
       "      <td>2.0</td>\n",
       "      <td>67.435</td>\n",
       "      <td>2.150</td>\n",
       "      <td>0.444</td>\n",
       "      <td>46.062</td>\n",
       "      <td>1.24</td>\n",
       "      <td>-2.475</td>\n",
       "      <td>113.497</td>\n",
       "      <td>s</td>\n",
       "    </tr>\n",
       "    <tr>\n",
       "      <th>1</th>\n",
       "      <td>160.937</td>\n",
       "      <td>68.768</td>\n",
       "      <td>103.235</td>\n",
       "      <td>48.146</td>\n",
       "      <td>-999.00</td>\n",
       "      <td>-999.000</td>\n",
       "      <td>-999.000</td>\n",
       "      <td>3.473</td>\n",
       "      <td>2.078</td>\n",
       "      <td>125.157</td>\n",
       "      <td>...</td>\n",
       "      <td>164.546</td>\n",
       "      <td>1.0</td>\n",
       "      <td>46.226</td>\n",
       "      <td>0.725</td>\n",
       "      <td>1.158</td>\n",
       "      <td>-999.000</td>\n",
       "      <td>-999.00</td>\n",
       "      <td>-999.000</td>\n",
       "      <td>46.226</td>\n",
       "      <td>b</td>\n",
       "    </tr>\n",
       "    <tr>\n",
       "      <th>2</th>\n",
       "      <td>-999.000</td>\n",
       "      <td>162.172</td>\n",
       "      <td>125.953</td>\n",
       "      <td>35.635</td>\n",
       "      <td>-999.00</td>\n",
       "      <td>-999.000</td>\n",
       "      <td>-999.000</td>\n",
       "      <td>3.148</td>\n",
       "      <td>9.336</td>\n",
       "      <td>197.814</td>\n",
       "      <td>...</td>\n",
       "      <td>260.414</td>\n",
       "      <td>1.0</td>\n",
       "      <td>44.251</td>\n",
       "      <td>2.053</td>\n",
       "      <td>-2.028</td>\n",
       "      <td>-999.000</td>\n",
       "      <td>-999.00</td>\n",
       "      <td>-999.000</td>\n",
       "      <td>44.251</td>\n",
       "      <td>b</td>\n",
       "    </tr>\n",
       "    <tr>\n",
       "      <th>3</th>\n",
       "      <td>143.905</td>\n",
       "      <td>81.417</td>\n",
       "      <td>80.943</td>\n",
       "      <td>0.414</td>\n",
       "      <td>-999.00</td>\n",
       "      <td>-999.000</td>\n",
       "      <td>-999.000</td>\n",
       "      <td>3.310</td>\n",
       "      <td>0.414</td>\n",
       "      <td>75.968</td>\n",
       "      <td>...</td>\n",
       "      <td>86.062</td>\n",
       "      <td>0.0</td>\n",
       "      <td>-999.000</td>\n",
       "      <td>-999.000</td>\n",
       "      <td>-999.000</td>\n",
       "      <td>-999.000</td>\n",
       "      <td>-999.00</td>\n",
       "      <td>-999.000</td>\n",
       "      <td>0.000</td>\n",
       "      <td>b</td>\n",
       "    </tr>\n",
       "    <tr>\n",
       "      <th>4</th>\n",
       "      <td>175.864</td>\n",
       "      <td>16.915</td>\n",
       "      <td>134.805</td>\n",
       "      <td>16.405</td>\n",
       "      <td>-999.00</td>\n",
       "      <td>-999.000</td>\n",
       "      <td>-999.000</td>\n",
       "      <td>3.891</td>\n",
       "      <td>16.405</td>\n",
       "      <td>57.983</td>\n",
       "      <td>...</td>\n",
       "      <td>53.131</td>\n",
       "      <td>0.0</td>\n",
       "      <td>-999.000</td>\n",
       "      <td>-999.000</td>\n",
       "      <td>-999.000</td>\n",
       "      <td>-999.000</td>\n",
       "      <td>-999.00</td>\n",
       "      <td>-999.000</td>\n",
       "      <td>0.000</td>\n",
       "      <td>b</td>\n",
       "    </tr>\n",
       "  </tbody>\n",
       "</table>\n",
       "<p>5 rows × 31 columns</p>\n",
       "</div>"
      ],
      "text/plain": [
       "   DER_mass_MMC  DER_mass_transverse_met_lep  DER_mass_vis  DER_pt_h  \\\n",
       "0       138.470                       51.655        97.827    27.980   \n",
       "1       160.937                       68.768       103.235    48.146   \n",
       "2      -999.000                      162.172       125.953    35.635   \n",
       "3       143.905                       81.417        80.943     0.414   \n",
       "4       175.864                       16.915       134.805    16.405   \n",
       "\n",
       "   DER_deltaeta_jet_jet  DER_mass_jet_jet  DER_prodeta_jet_jet  \\\n",
       "0                  0.91           124.711                2.666   \n",
       "1               -999.00          -999.000             -999.000   \n",
       "2               -999.00          -999.000             -999.000   \n",
       "3               -999.00          -999.000             -999.000   \n",
       "4               -999.00          -999.000             -999.000   \n",
       "\n",
       "   DER_deltar_tau_lep  DER_pt_tot  DER_sum_pt  ...    PRI_met_sumet  \\\n",
       "0               3.064      41.928     197.760  ...          258.733   \n",
       "1               3.473       2.078     125.157  ...          164.546   \n",
       "2               3.148       9.336     197.814  ...          260.414   \n",
       "3               3.310       0.414      75.968  ...           86.062   \n",
       "4               3.891      16.405      57.983  ...           53.131   \n",
       "\n",
       "   PRI_jet_num  PRI_jet_leading_pt  PRI_jet_leading_eta  PRI_jet_leading_phi  \\\n",
       "0          2.0              67.435                2.150                0.444   \n",
       "1          1.0              46.226                0.725                1.158   \n",
       "2          1.0              44.251                2.053               -2.028   \n",
       "3          0.0            -999.000             -999.000             -999.000   \n",
       "4          0.0            -999.000             -999.000             -999.000   \n",
       "\n",
       "   PRI_jet_subleading_pt  PRI_jet_subleading_eta  PRI_jet_subleading_phi  \\\n",
       "0                 46.062                    1.24                  -2.475   \n",
       "1               -999.000                 -999.00                -999.000   \n",
       "2               -999.000                 -999.00                -999.000   \n",
       "3               -999.000                 -999.00                -999.000   \n",
       "4               -999.000                 -999.00                -999.000   \n",
       "\n",
       "   PRI_jet_all_pt  Label  \n",
       "0         113.497      s  \n",
       "1          46.226      b  \n",
       "2          44.251      b  \n",
       "3           0.000      b  \n",
       "4           0.000      b  \n",
       "\n",
       "[5 rows x 31 columns]"
      ]
     },
     "execution_count": 3,
     "metadata": {},
     "output_type": "execute_result"
    }
   ],
   "source": [
    "data.head() #lihat data 5 baris teratas\n",
    "# tujuan: agar mendapat penggambaran data apa saja yang kita miliki"
   ]
  },
  {
   "cell_type": "code",
   "execution_count": 9,
   "metadata": {
    "collapsed": false
   },
   "outputs": [
    {
     "data": {
      "text/plain": [
       "(75000, 31)"
      ]
     },
     "execution_count": 9,
     "metadata": {},
     "output_type": "execute_result"
    }
   ],
   "source": [
    "data.shape"
   ]
  },
  {
   "cell_type": "markdown",
   "metadata": {},
   "source": [
    "#### Cek banyaknya observasi"
   ]
  },
  {
   "cell_type": "code",
   "execution_count": 10,
   "metadata": {
    "collapsed": false
   },
   "outputs": [
    {
     "data": {
      "text/plain": [
       "(75000, 31)"
      ]
     },
     "execution_count": 10,
     "metadata": {},
     "output_type": "execute_result"
    }
   ],
   "source": [
    "data.shape #(JUMLAH OBSERVASI, JUMLAH COLUMN)"
   ]
  },
  {
   "cell_type": "markdown",
   "metadata": {},
   "source": [
    "#### Drop data yang duplicate"
   ]
  },
  {
   "cell_type": "code",
   "execution_count": 11,
   "metadata": {
    "collapsed": false
   },
   "outputs": [
    {
     "data": {
      "text/plain": [
       "(75000, 31)"
      ]
     },
     "execution_count": 11,
     "metadata": {},
     "output_type": "execute_result"
    }
   ],
   "source": [
    "data = data.drop_duplicates() # drop duplicate \n",
    "data.shape"
   ]
  },
  {
   "cell_type": "markdown",
   "metadata": {},
   "source": [
    "## 2. <font color='blue'> Data Preprocessing:</font> \n",
    "    * Input-Output Split, Train-Test Split\n",
    "    * Processing Categorical\n",
    "    * Imputation, Normalization, Drop Duplicates"
   ]
  },
  {
   "cell_type": "markdown",
   "metadata": {},
   "source": [
    "### a. Input-Output Split"
   ]
  },
  {
   "cell_type": "code",
   "execution_count": 13,
   "metadata": {
    "collapsed": false
   },
   "outputs": [
    {
     "data": {
      "text/html": [
       "<div>\n",
       "<table border=\"1\" class=\"dataframe\">\n",
       "  <thead>\n",
       "    <tr style=\"text-align: right;\">\n",
       "      <th></th>\n",
       "      <th>DER_mass_MMC</th>\n",
       "      <th>DER_mass_transverse_met_lep</th>\n",
       "      <th>DER_mass_vis</th>\n",
       "      <th>DER_pt_h</th>\n",
       "      <th>DER_deltaeta_jet_jet</th>\n",
       "      <th>DER_mass_jet_jet</th>\n",
       "      <th>DER_prodeta_jet_jet</th>\n",
       "      <th>DER_deltar_tau_lep</th>\n",
       "      <th>DER_pt_tot</th>\n",
       "      <th>DER_sum_pt</th>\n",
       "      <th>...</th>\n",
       "      <th>PRI_met_sumet</th>\n",
       "      <th>PRI_jet_num</th>\n",
       "      <th>PRI_jet_leading_pt</th>\n",
       "      <th>PRI_jet_leading_eta</th>\n",
       "      <th>PRI_jet_leading_phi</th>\n",
       "      <th>PRI_jet_subleading_pt</th>\n",
       "      <th>PRI_jet_subleading_eta</th>\n",
       "      <th>PRI_jet_subleading_phi</th>\n",
       "      <th>PRI_jet_all_pt</th>\n",
       "      <th>Label</th>\n",
       "    </tr>\n",
       "  </thead>\n",
       "  <tbody>\n",
       "    <tr>\n",
       "      <th>0</th>\n",
       "      <td>138.470</td>\n",
       "      <td>51.655</td>\n",
       "      <td>97.827</td>\n",
       "      <td>27.980</td>\n",
       "      <td>0.91</td>\n",
       "      <td>124.711</td>\n",
       "      <td>2.666</td>\n",
       "      <td>3.064</td>\n",
       "      <td>41.928</td>\n",
       "      <td>197.760</td>\n",
       "      <td>...</td>\n",
       "      <td>258.733</td>\n",
       "      <td>2.0</td>\n",
       "      <td>67.435</td>\n",
       "      <td>2.150</td>\n",
       "      <td>0.444</td>\n",
       "      <td>46.062</td>\n",
       "      <td>1.24</td>\n",
       "      <td>-2.475</td>\n",
       "      <td>113.497</td>\n",
       "      <td>s</td>\n",
       "    </tr>\n",
       "    <tr>\n",
       "      <th>1</th>\n",
       "      <td>160.937</td>\n",
       "      <td>68.768</td>\n",
       "      <td>103.235</td>\n",
       "      <td>48.146</td>\n",
       "      <td>-999.00</td>\n",
       "      <td>-999.000</td>\n",
       "      <td>-999.000</td>\n",
       "      <td>3.473</td>\n",
       "      <td>2.078</td>\n",
       "      <td>125.157</td>\n",
       "      <td>...</td>\n",
       "      <td>164.546</td>\n",
       "      <td>1.0</td>\n",
       "      <td>46.226</td>\n",
       "      <td>0.725</td>\n",
       "      <td>1.158</td>\n",
       "      <td>-999.000</td>\n",
       "      <td>-999.00</td>\n",
       "      <td>-999.000</td>\n",
       "      <td>46.226</td>\n",
       "      <td>b</td>\n",
       "    </tr>\n",
       "    <tr>\n",
       "      <th>2</th>\n",
       "      <td>-999.000</td>\n",
       "      <td>162.172</td>\n",
       "      <td>125.953</td>\n",
       "      <td>35.635</td>\n",
       "      <td>-999.00</td>\n",
       "      <td>-999.000</td>\n",
       "      <td>-999.000</td>\n",
       "      <td>3.148</td>\n",
       "      <td>9.336</td>\n",
       "      <td>197.814</td>\n",
       "      <td>...</td>\n",
       "      <td>260.414</td>\n",
       "      <td>1.0</td>\n",
       "      <td>44.251</td>\n",
       "      <td>2.053</td>\n",
       "      <td>-2.028</td>\n",
       "      <td>-999.000</td>\n",
       "      <td>-999.00</td>\n",
       "      <td>-999.000</td>\n",
       "      <td>44.251</td>\n",
       "      <td>b</td>\n",
       "    </tr>\n",
       "    <tr>\n",
       "      <th>3</th>\n",
       "      <td>143.905</td>\n",
       "      <td>81.417</td>\n",
       "      <td>80.943</td>\n",
       "      <td>0.414</td>\n",
       "      <td>-999.00</td>\n",
       "      <td>-999.000</td>\n",
       "      <td>-999.000</td>\n",
       "      <td>3.310</td>\n",
       "      <td>0.414</td>\n",
       "      <td>75.968</td>\n",
       "      <td>...</td>\n",
       "      <td>86.062</td>\n",
       "      <td>0.0</td>\n",
       "      <td>-999.000</td>\n",
       "      <td>-999.000</td>\n",
       "      <td>-999.000</td>\n",
       "      <td>-999.000</td>\n",
       "      <td>-999.00</td>\n",
       "      <td>-999.000</td>\n",
       "      <td>0.000</td>\n",
       "      <td>b</td>\n",
       "    </tr>\n",
       "    <tr>\n",
       "      <th>4</th>\n",
       "      <td>175.864</td>\n",
       "      <td>16.915</td>\n",
       "      <td>134.805</td>\n",
       "      <td>16.405</td>\n",
       "      <td>-999.00</td>\n",
       "      <td>-999.000</td>\n",
       "      <td>-999.000</td>\n",
       "      <td>3.891</td>\n",
       "      <td>16.405</td>\n",
       "      <td>57.983</td>\n",
       "      <td>...</td>\n",
       "      <td>53.131</td>\n",
       "      <td>0.0</td>\n",
       "      <td>-999.000</td>\n",
       "      <td>-999.000</td>\n",
       "      <td>-999.000</td>\n",
       "      <td>-999.000</td>\n",
       "      <td>-999.00</td>\n",
       "      <td>-999.000</td>\n",
       "      <td>0.000</td>\n",
       "      <td>b</td>\n",
       "    </tr>\n",
       "  </tbody>\n",
       "</table>\n",
       "<p>5 rows × 31 columns</p>\n",
       "</div>"
      ],
      "text/plain": [
       "   DER_mass_MMC  DER_mass_transverse_met_lep  DER_mass_vis  DER_pt_h  \\\n",
       "0       138.470                       51.655        97.827    27.980   \n",
       "1       160.937                       68.768       103.235    48.146   \n",
       "2      -999.000                      162.172       125.953    35.635   \n",
       "3       143.905                       81.417        80.943     0.414   \n",
       "4       175.864                       16.915       134.805    16.405   \n",
       "\n",
       "   DER_deltaeta_jet_jet  DER_mass_jet_jet  DER_prodeta_jet_jet  \\\n",
       "0                  0.91           124.711                2.666   \n",
       "1               -999.00          -999.000             -999.000   \n",
       "2               -999.00          -999.000             -999.000   \n",
       "3               -999.00          -999.000             -999.000   \n",
       "4               -999.00          -999.000             -999.000   \n",
       "\n",
       "   DER_deltar_tau_lep  DER_pt_tot  DER_sum_pt  ...    PRI_met_sumet  \\\n",
       "0               3.064      41.928     197.760  ...          258.733   \n",
       "1               3.473       2.078     125.157  ...          164.546   \n",
       "2               3.148       9.336     197.814  ...          260.414   \n",
       "3               3.310       0.414      75.968  ...           86.062   \n",
       "4               3.891      16.405      57.983  ...           53.131   \n",
       "\n",
       "   PRI_jet_num  PRI_jet_leading_pt  PRI_jet_leading_eta  PRI_jet_leading_phi  \\\n",
       "0          2.0              67.435                2.150                0.444   \n",
       "1          1.0              46.226                0.725                1.158   \n",
       "2          1.0              44.251                2.053               -2.028   \n",
       "3          0.0            -999.000             -999.000             -999.000   \n",
       "4          0.0            -999.000             -999.000             -999.000   \n",
       "\n",
       "   PRI_jet_subleading_pt  PRI_jet_subleading_eta  PRI_jet_subleading_phi  \\\n",
       "0                 46.062                    1.24                  -2.475   \n",
       "1               -999.000                 -999.00                -999.000   \n",
       "2               -999.000                 -999.00                -999.000   \n",
       "3               -999.000                 -999.00                -999.000   \n",
       "4               -999.000                 -999.00                -999.000   \n",
       "\n",
       "   PRI_jet_all_pt  Label  \n",
       "0         113.497      s  \n",
       "1          46.226      b  \n",
       "2          44.251      b  \n",
       "3           0.000      b  \n",
       "4           0.000      b  \n",
       "\n",
       "[5 rows x 31 columns]"
      ]
     },
     "execution_count": 13,
     "metadata": {},
     "output_type": "execute_result"
    }
   ],
   "source": [
    "data.head()"
   ]
  },
  {
   "cell_type": "code",
   "execution_count": null,
   "metadata": {
    "collapsed": true
   },
   "outputs": [],
   "source": []
  },
  {
   "cell_type": "code",
   "execution_count": null,
   "metadata": {
    "collapsed": true
   },
   "outputs": [],
   "source": []
  },
  {
   "cell_type": "code",
   "execution_count": 14,
   "metadata": {
    "collapsed": true
   },
   "outputs": [],
   "source": [
    "def extractInputOutput(data, output_column_name):\n",
    "    ''' Extract Input dan Output\n",
    "    data: <pandas dataframe> seluruh data sample\n",
    "    output: <string> nama column output'''\n",
    "    \n",
    "    data_output = data[output_column_name] \n",
    "    data_input = data.drop(output_column_name, axis = 1)\n",
    "    \n",
    "    return data_input, data_output\n",
    "\n",
    "x, y = extractInputOutput(data, \"Label\")"
   ]
  },
  {
   "cell_type": "markdown",
   "metadata": {},
   "source": [
    "### b. Train-Test Split"
   ]
  },
  {
   "cell_type": "code",
   "execution_count": 15,
   "metadata": {
    "collapsed": true
   },
   "outputs": [],
   "source": [
    "from sklearn.model_selection import train_test_split\n",
    "x_train, x_test, y_train, y_test = train_test_split(x, y, test_size = 0.75, random_state = 123)"
   ]
  },
  {
   "cell_type": "code",
   "execution_count": 16,
   "metadata": {
    "collapsed": false
   },
   "outputs": [
    {
     "data": {
      "text/plain": [
       "(18750, 30)"
      ]
     },
     "execution_count": 16,
     "metadata": {},
     "output_type": "execute_result"
    }
   ],
   "source": [
    "x_train.shape"
   ]
  },
  {
   "cell_type": "markdown",
   "metadata": {},
   "source": [
    "### c. Data Imputation"
   ]
  },
  {
   "cell_type": "markdown",
   "metadata": {},
   "source": [
    "Membedakan numerical dan categorical variables: Variable 'PRI_jet_num' adalah categorical, dan selainnya adalah numerical"
   ]
  },
  {
   "cell_type": "code",
   "execution_count": 18,
   "metadata": {
    "collapsed": false
   },
   "outputs": [
    {
     "data": {
      "text/html": [
       "<div>\n",
       "<table border=\"1\" class=\"dataframe\">\n",
       "  <thead>\n",
       "    <tr style=\"text-align: right;\">\n",
       "      <th></th>\n",
       "      <th>DER_mass_MMC</th>\n",
       "      <th>DER_mass_transverse_met_lep</th>\n",
       "      <th>DER_mass_vis</th>\n",
       "      <th>DER_pt_h</th>\n",
       "      <th>DER_deltaeta_jet_jet</th>\n",
       "      <th>DER_mass_jet_jet</th>\n",
       "      <th>DER_prodeta_jet_jet</th>\n",
       "      <th>DER_deltar_tau_lep</th>\n",
       "      <th>DER_pt_tot</th>\n",
       "      <th>DER_sum_pt</th>\n",
       "      <th>...</th>\n",
       "      <th>PRI_met_phi</th>\n",
       "      <th>PRI_met_sumet</th>\n",
       "      <th>PRI_jet_num</th>\n",
       "      <th>PRI_jet_leading_pt</th>\n",
       "      <th>PRI_jet_leading_eta</th>\n",
       "      <th>PRI_jet_leading_phi</th>\n",
       "      <th>PRI_jet_subleading_pt</th>\n",
       "      <th>PRI_jet_subleading_eta</th>\n",
       "      <th>PRI_jet_subleading_phi</th>\n",
       "      <th>PRI_jet_all_pt</th>\n",
       "    </tr>\n",
       "  </thead>\n",
       "  <tbody>\n",
       "    <tr>\n",
       "      <th>35221</th>\n",
       "      <td>138.334</td>\n",
       "      <td>56.509</td>\n",
       "      <td>72.079</td>\n",
       "      <td>68.427</td>\n",
       "      <td>-999.000</td>\n",
       "      <td>-999.000</td>\n",
       "      <td>-999.000</td>\n",
       "      <td>2.637</td>\n",
       "      <td>24.170</td>\n",
       "      <td>116.977</td>\n",
       "      <td>...</td>\n",
       "      <td>-0.791</td>\n",
       "      <td>218.176</td>\n",
       "      <td>1.0</td>\n",
       "      <td>46.823</td>\n",
       "      <td>-4.191</td>\n",
       "      <td>2.271</td>\n",
       "      <td>-999.000</td>\n",
       "      <td>-999.0</td>\n",
       "      <td>-999.000</td>\n",
       "      <td>46.823</td>\n",
       "    </tr>\n",
       "    <tr>\n",
       "      <th>53826</th>\n",
       "      <td>87.484</td>\n",
       "      <td>45.383</td>\n",
       "      <td>64.766</td>\n",
       "      <td>194.931</td>\n",
       "      <td>4.139</td>\n",
       "      <td>736.881</td>\n",
       "      <td>-3.751</td>\n",
       "      <td>0.957</td>\n",
       "      <td>2.255</td>\n",
       "      <td>437.348</td>\n",
       "      <td>...</td>\n",
       "      <td>-0.766</td>\n",
       "      <td>455.880</td>\n",
       "      <td>2.0</td>\n",
       "      <td>228.807</td>\n",
       "      <td>1.340</td>\n",
       "      <td>2.898</td>\n",
       "      <td>36.603</td>\n",
       "      <td>-2.8</td>\n",
       "      <td>0.022</td>\n",
       "      <td>265.410</td>\n",
       "    </tr>\n",
       "    <tr>\n",
       "      <th>71409</th>\n",
       "      <td>115.476</td>\n",
       "      <td>43.402</td>\n",
       "      <td>74.921</td>\n",
       "      <td>119.702</td>\n",
       "      <td>-999.000</td>\n",
       "      <td>-999.000</td>\n",
       "      <td>-999.000</td>\n",
       "      <td>2.085</td>\n",
       "      <td>0.929</td>\n",
       "      <td>185.484</td>\n",
       "      <td>...</td>\n",
       "      <td>0.872</td>\n",
       "      <td>215.555</td>\n",
       "      <td>1.0</td>\n",
       "      <td>120.622</td>\n",
       "      <td>-0.788</td>\n",
       "      <td>-2.690</td>\n",
       "      <td>-999.000</td>\n",
       "      <td>-999.0</td>\n",
       "      <td>-999.000</td>\n",
       "      <td>120.622</td>\n",
       "    </tr>\n",
       "    <tr>\n",
       "      <th>6778</th>\n",
       "      <td>-999.000</td>\n",
       "      <td>84.446</td>\n",
       "      <td>46.167</td>\n",
       "      <td>0.718</td>\n",
       "      <td>-999.000</td>\n",
       "      <td>-999.000</td>\n",
       "      <td>-999.000</td>\n",
       "      <td>1.721</td>\n",
       "      <td>0.718</td>\n",
       "      <td>60.994</td>\n",
       "      <td>...</td>\n",
       "      <td>-1.497</td>\n",
       "      <td>64.478</td>\n",
       "      <td>0.0</td>\n",
       "      <td>-999.000</td>\n",
       "      <td>-999.000</td>\n",
       "      <td>-999.000</td>\n",
       "      <td>-999.000</td>\n",
       "      <td>-999.0</td>\n",
       "      <td>-999.000</td>\n",
       "      <td>0.000</td>\n",
       "    </tr>\n",
       "    <tr>\n",
       "      <th>56765</th>\n",
       "      <td>94.480</td>\n",
       "      <td>2.907</td>\n",
       "      <td>42.712</td>\n",
       "      <td>121.089</td>\n",
       "      <td>-999.000</td>\n",
       "      <td>-999.000</td>\n",
       "      <td>-999.000</td>\n",
       "      <td>1.758</td>\n",
       "      <td>24.398</td>\n",
       "      <td>171.724</td>\n",
       "      <td>...</td>\n",
       "      <td>2.180</td>\n",
       "      <td>276.539</td>\n",
       "      <td>1.0</td>\n",
       "      <td>116.143</td>\n",
       "      <td>0.975</td>\n",
       "      <td>-0.966</td>\n",
       "      <td>-999.000</td>\n",
       "      <td>-999.0</td>\n",
       "      <td>-999.000</td>\n",
       "      <td>116.143</td>\n",
       "    </tr>\n",
       "  </tbody>\n",
       "</table>\n",
       "<p>5 rows × 30 columns</p>\n",
       "</div>"
      ],
      "text/plain": [
       "       DER_mass_MMC  DER_mass_transverse_met_lep  DER_mass_vis  DER_pt_h  \\\n",
       "35221       138.334                       56.509        72.079    68.427   \n",
       "53826        87.484                       45.383        64.766   194.931   \n",
       "71409       115.476                       43.402        74.921   119.702   \n",
       "6778       -999.000                       84.446        46.167     0.718   \n",
       "56765        94.480                        2.907        42.712   121.089   \n",
       "\n",
       "       DER_deltaeta_jet_jet  DER_mass_jet_jet  DER_prodeta_jet_jet  \\\n",
       "35221              -999.000          -999.000             -999.000   \n",
       "53826                 4.139           736.881               -3.751   \n",
       "71409              -999.000          -999.000             -999.000   \n",
       "6778               -999.000          -999.000             -999.000   \n",
       "56765              -999.000          -999.000             -999.000   \n",
       "\n",
       "       DER_deltar_tau_lep  DER_pt_tot  DER_sum_pt       ...        \\\n",
       "35221               2.637      24.170     116.977       ...         \n",
       "53826               0.957       2.255     437.348       ...         \n",
       "71409               2.085       0.929     185.484       ...         \n",
       "6778                1.721       0.718      60.994       ...         \n",
       "56765               1.758      24.398     171.724       ...         \n",
       "\n",
       "       PRI_met_phi  PRI_met_sumet  PRI_jet_num  PRI_jet_leading_pt  \\\n",
       "35221       -0.791        218.176          1.0              46.823   \n",
       "53826       -0.766        455.880          2.0             228.807   \n",
       "71409        0.872        215.555          1.0             120.622   \n",
       "6778        -1.497         64.478          0.0            -999.000   \n",
       "56765        2.180        276.539          1.0             116.143   \n",
       "\n",
       "       PRI_jet_leading_eta  PRI_jet_leading_phi  PRI_jet_subleading_pt  \\\n",
       "35221               -4.191                2.271               -999.000   \n",
       "53826                1.340                2.898                 36.603   \n",
       "71409               -0.788               -2.690               -999.000   \n",
       "6778              -999.000             -999.000               -999.000   \n",
       "56765                0.975               -0.966               -999.000   \n",
       "\n",
       "       PRI_jet_subleading_eta  PRI_jet_subleading_phi  PRI_jet_all_pt  \n",
       "35221                  -999.0                -999.000          46.823  \n",
       "53826                    -2.8                   0.022         265.410  \n",
       "71409                  -999.0                -999.000         120.622  \n",
       "6778                   -999.0                -999.000           0.000  \n",
       "56765                  -999.0                -999.000         116.143  \n",
       "\n",
       "[5 rows x 30 columns]"
      ]
     },
     "execution_count": 18,
     "metadata": {},
     "output_type": "execute_result"
    }
   ],
   "source": [
    "x_train.head()"
   ]
  },
  {
   "cell_type": "code",
   "execution_count": 19,
   "metadata": {
    "collapsed": true
   },
   "outputs": [],
   "source": [
    "categorical = [\"PRI_jet_num\"]\n",
    "numerical = list(x_train.drop('PRI_jet_num', axis = 1)) # ambil numerical variables"
   ]
  },
  {
   "cell_type": "markdown",
   "metadata": {},
   "source": [
    "#### 1) Numerical Imputation"
   ]
  },
  {
   "cell_type": "code",
   "execution_count": 20,
   "metadata": {
    "collapsed": true
   },
   "outputs": [],
   "source": [
    "\n",
    "# ambil variable numeric dari x_train\n",
    "x_train_numerical = x_train[numerical]"
   ]
  },
  {
   "cell_type": "code",
   "execution_count": 21,
   "metadata": {
    "collapsed": false,
    "scrolled": true
   },
   "outputs": [
    {
     "data": {
      "text/plain": [
       "DER_mass_MMC                   0\n",
       "DER_mass_transverse_met_lep    0\n",
       "DER_mass_vis                   0\n",
       "DER_pt_h                       0\n",
       "DER_deltaeta_jet_jet           0\n",
       "DER_mass_jet_jet               0\n",
       "DER_prodeta_jet_jet            0\n",
       "DER_deltar_tau_lep             0\n",
       "DER_pt_tot                     0\n",
       "DER_sum_pt                     0\n",
       "DER_pt_ratio_lep_tau           0\n",
       "DER_met_phi_centrality         0\n",
       "DER_lep_eta_centrality         0\n",
       "PRI_tau_pt                     0\n",
       "PRI_tau_eta                    0\n",
       "PRI_tau_phi                    0\n",
       "PRI_lep_pt                     0\n",
       "PRI_lep_eta                    0\n",
       "PRI_lep_phi                    0\n",
       "PRI_met                        0\n",
       "PRI_met_phi                    0\n",
       "PRI_met_sumet                  0\n",
       "PRI_jet_leading_pt             0\n",
       "PRI_jet_leading_eta            0\n",
       "PRI_jet_leading_phi            0\n",
       "PRI_jet_subleading_pt          0\n",
       "PRI_jet_subleading_eta         0\n",
       "PRI_jet_subleading_phi         0\n",
       "PRI_jet_all_pt                 0\n",
       "dtype: int64"
      ]
     },
     "execution_count": 21,
     "metadata": {},
     "output_type": "execute_result"
    }
   ],
   "source": [
    "x_train_numerical.isnull().sum()"
   ]
  },
  {
   "cell_type": "markdown",
   "metadata": {},
   "source": [
    "tidak ada numerical variables yang memiliki missing value. Tetapi, pada kasus ini missing value diisi dengan nilai -999.0, sehingga harus dicek variable mana yang memiliki nilai -999.0"
   ]
  },
  {
   "cell_type": "code",
   "execution_count": 22,
   "metadata": {
    "collapsed": false,
    "scrolled": true
   },
   "outputs": [
    {
     "name": "stdout",
     "output_type": "stream",
     "text": [
      "column  number of missing value\n",
      "DER_mass_MMC 2909\n",
      "DER_mass_transverse_met_lep 0\n",
      "DER_mass_vis 0\n",
      "DER_pt_h 0\n",
      "DER_deltaeta_jet_jet 13332\n",
      "DER_mass_jet_jet 13332\n",
      "DER_prodeta_jet_jet 13332\n",
      "DER_deltar_tau_lep 0\n",
      "DER_pt_tot 0\n",
      "DER_sum_pt 0\n",
      "DER_pt_ratio_lep_tau 0\n",
      "DER_met_phi_centrality 0\n",
      "DER_lep_eta_centrality 13332\n",
      "PRI_tau_pt 0\n",
      "PRI_tau_eta 0\n",
      "PRI_tau_phi 0\n",
      "PRI_lep_pt 0\n",
      "PRI_lep_eta 0\n",
      "PRI_lep_phi 0\n",
      "PRI_met 0\n",
      "PRI_met_phi 0\n",
      "PRI_met_sumet 0\n",
      "PRI_jet_leading_pt 7517\n",
      "PRI_jet_leading_eta 7517\n",
      "PRI_jet_leading_phi 7517\n",
      "PRI_jet_subleading_pt 13332\n",
      "PRI_jet_subleading_eta 13332\n",
      "PRI_jet_subleading_phi 13332\n",
      "PRI_jet_all_pt 0\n"
     ]
    }
   ],
   "source": [
    "print \"column  number of missing value\"\n",
    "for i in numerical:\n",
    "    isexist999 = x_train_numerical[x_train_numerical[i]==-999.0] # mengambil data ketika data di dalam column i = -999.0\n",
    "    isnull = isexist999.shape[0] # jika ada data yang memiliki nilai -999.0, maka jumlah observasi > 0\n",
    "    print i, isnull"
   ]
  },
  {
   "cell_type": "markdown",
   "metadata": {},
   "source": [
    "#### Gunakan function Imputer dari scikit learn untuk data imputation NUMERICAL SAJA"
   ]
  },
  {
   "cell_type": "code",
   "execution_count": 23,
   "metadata": {
    "collapsed": true
   },
   "outputs": [],
   "source": [
    "from sklearn.preprocessing import Imputer"
   ]
  },
  {
   "cell_type": "code",
   "execution_count": 24,
   "metadata": {
    "collapsed": true
   },
   "outputs": [],
   "source": [
    "imput_numerical = Imputer(missing_values = -999.0, strategy = 'median' )\n",
    "# set missing value = -999.0\n",
    "# strategy median adalah stragegy imputasi, jika data kosong, maka data diganti dengan median\n",
    "# strategy bisa diganti dengan mean atau rata-rata\n",
    "# see median: https://en.wikipedia.org/wiki/Median"
   ]
  },
  {
   "cell_type": "markdown",
   "metadata": {},
   "source": [
    "* fit: imputer agar mengetahui mean atau median  dari setiap column\n",
    "* transform: isi data dengan median atau mean\n",
    "* output dari transform berupda pd dataframe\n",
    "* namakan column dari x_train_numerical_imputed sesuai dengan x_train_numerical.\n",
    "     - MENGAPA? karena kita kehilangan nama column setelah data imputation\n",
    "* beri index dari x_train_numerical_imputed sesuai dengan x_train_numerical.\n",
    "     - MENGAPA? karena kita kehilangan index setelah data imputation"
   ]
  },
  {
   "cell_type": "code",
   "execution_count": 27,
   "metadata": {
    "collapsed": true
   },
   "outputs": [],
   "source": [
    "def numericalImputation(data, numerical_columns):\n",
    "    numerical_data = data[numerical_columns]\n",
    "    imput_numerical.fit(numerical_data)\n",
    "    \n",
    "    numerical_data = pd.DataFrame(imput_numerical.transform(numerical_data), index = data.index)\n",
    "    numerical_data.columns = numerical_columns     \n",
    "    return  numerical_data, imput_numerical\n",
    "\n",
    "x_train_numerical, imput_numerical = numericalImputation(data = x_train_numerical, numerical_columns = numerical)"
   ]
  },
  {
   "cell_type": "code",
   "execution_count": 29,
   "metadata": {
    "collapsed": false
   },
   "outputs": [
    {
     "name": "stdout",
     "output_type": "stream",
     "text": [
      "column  number of missing value\n",
      "DER_mass_MMC 0\n",
      "DER_mass_transverse_met_lep 0\n",
      "DER_mass_vis 0\n",
      "DER_pt_h 0\n",
      "DER_deltaeta_jet_jet 0\n",
      "DER_mass_jet_jet 0\n",
      "DER_prodeta_jet_jet 0\n",
      "DER_deltar_tau_lep 0\n",
      "DER_pt_tot 0\n",
      "DER_sum_pt 0\n",
      "DER_pt_ratio_lep_tau 0\n",
      "DER_met_phi_centrality 0\n",
      "DER_lep_eta_centrality 0\n",
      "PRI_tau_pt 0\n",
      "PRI_tau_eta 0\n",
      "PRI_tau_phi 0\n",
      "PRI_lep_pt 0\n",
      "PRI_lep_eta 0\n",
      "PRI_lep_phi 0\n",
      "PRI_met 0\n",
      "PRI_met_phi 0\n",
      "PRI_met_sumet 0\n",
      "PRI_jet_leading_pt 0\n",
      "PRI_jet_leading_eta 0\n",
      "PRI_jet_leading_phi 0\n",
      "PRI_jet_subleading_pt 0\n",
      "PRI_jet_subleading_eta 0\n",
      "PRI_jet_subleading_phi 0\n",
      "PRI_jet_all_pt 0\n"
     ]
    }
   ],
   "source": [
    "print \"column  number of missing value\"\n",
    "for i in numerical:\n",
    "    isexist999 = x_train_numerical[x_train_numerical[i]==-999.0] # mengambil data ketika data di dalam column i = -999.0\n",
    "    isnull = isexist999.shape[0] # jika ada data yang memiliki nilai -999.0, maka jumlah observasi > 0\n",
    "    print i, isnull"
   ]
  },
  {
   "cell_type": "code",
   "execution_count": 30,
   "metadata": {
    "collapsed": false
   },
   "outputs": [
    {
     "data": {
      "text/html": [
       "<div>\n",
       "<table border=\"1\" class=\"dataframe\">\n",
       "  <thead>\n",
       "    <tr style=\"text-align: right;\">\n",
       "      <th></th>\n",
       "      <th>DER_mass_MMC</th>\n",
       "      <th>DER_mass_transverse_met_lep</th>\n",
       "      <th>DER_mass_vis</th>\n",
       "      <th>DER_pt_h</th>\n",
       "      <th>DER_deltaeta_jet_jet</th>\n",
       "      <th>DER_mass_jet_jet</th>\n",
       "      <th>DER_prodeta_jet_jet</th>\n",
       "      <th>DER_deltar_tau_lep</th>\n",
       "      <th>DER_pt_tot</th>\n",
       "      <th>DER_sum_pt</th>\n",
       "      <th>...</th>\n",
       "      <th>PRI_met</th>\n",
       "      <th>PRI_met_phi</th>\n",
       "      <th>PRI_met_sumet</th>\n",
       "      <th>PRI_jet_leading_pt</th>\n",
       "      <th>PRI_jet_leading_eta</th>\n",
       "      <th>PRI_jet_leading_phi</th>\n",
       "      <th>PRI_jet_subleading_pt</th>\n",
       "      <th>PRI_jet_subleading_eta</th>\n",
       "      <th>PRI_jet_subleading_phi</th>\n",
       "      <th>PRI_jet_all_pt</th>\n",
       "    </tr>\n",
       "  </thead>\n",
       "  <tbody>\n",
       "    <tr>\n",
       "      <th>35221</th>\n",
       "      <td>138.334</td>\n",
       "      <td>56.509</td>\n",
       "      <td>72.079</td>\n",
       "      <td>68.427</td>\n",
       "      <td>2.1345</td>\n",
       "      <td>231.4775</td>\n",
       "      <td>-0.2615</td>\n",
       "      <td>2.637</td>\n",
       "      <td>24.170</td>\n",
       "      <td>116.977</td>\n",
       "      <td>...</td>\n",
       "      <td>45.458</td>\n",
       "      <td>-0.791</td>\n",
       "      <td>218.176</td>\n",
       "      <td>46.823</td>\n",
       "      <td>-4.191</td>\n",
       "      <td>2.271</td>\n",
       "      <td>48.561</td>\n",
       "      <td>-0.025</td>\n",
       "      <td>-0.066</td>\n",
       "      <td>46.823</td>\n",
       "    </tr>\n",
       "    <tr>\n",
       "      <th>53826</th>\n",
       "      <td>87.484</td>\n",
       "      <td>45.383</td>\n",
       "      <td>64.766</td>\n",
       "      <td>194.931</td>\n",
       "      <td>4.1390</td>\n",
       "      <td>736.8810</td>\n",
       "      <td>-3.7510</td>\n",
       "      <td>0.957</td>\n",
       "      <td>2.255</td>\n",
       "      <td>437.348</td>\n",
       "      <td>...</td>\n",
       "      <td>39.148</td>\n",
       "      <td>-0.766</td>\n",
       "      <td>455.880</td>\n",
       "      <td>228.807</td>\n",
       "      <td>1.340</td>\n",
       "      <td>2.898</td>\n",
       "      <td>36.603</td>\n",
       "      <td>-2.800</td>\n",
       "      <td>0.022</td>\n",
       "      <td>265.410</td>\n",
       "    </tr>\n",
       "    <tr>\n",
       "      <th>71409</th>\n",
       "      <td>115.476</td>\n",
       "      <td>43.402</td>\n",
       "      <td>74.921</td>\n",
       "      <td>119.702</td>\n",
       "      <td>2.1345</td>\n",
       "      <td>231.4775</td>\n",
       "      <td>-0.2615</td>\n",
       "      <td>2.085</td>\n",
       "      <td>0.929</td>\n",
       "      <td>185.484</td>\n",
       "      <td>...</td>\n",
       "      <td>66.619</td>\n",
       "      <td>0.872</td>\n",
       "      <td>215.555</td>\n",
       "      <td>120.622</td>\n",
       "      <td>-0.788</td>\n",
       "      <td>-2.690</td>\n",
       "      <td>48.561</td>\n",
       "      <td>-0.025</td>\n",
       "      <td>-0.066</td>\n",
       "      <td>120.622</td>\n",
       "    </tr>\n",
       "    <tr>\n",
       "      <th>6778</th>\n",
       "      <td>112.517</td>\n",
       "      <td>84.446</td>\n",
       "      <td>46.167</td>\n",
       "      <td>0.718</td>\n",
       "      <td>2.1345</td>\n",
       "      <td>231.4775</td>\n",
       "      <td>-0.2615</td>\n",
       "      <td>1.721</td>\n",
       "      <td>0.718</td>\n",
       "      <td>60.994</td>\n",
       "      <td>...</td>\n",
       "      <td>45.835</td>\n",
       "      <td>-1.497</td>\n",
       "      <td>64.478</td>\n",
       "      <td>64.825</td>\n",
       "      <td>0.003</td>\n",
       "      <td>-0.007</td>\n",
       "      <td>48.561</td>\n",
       "      <td>-0.025</td>\n",
       "      <td>-0.066</td>\n",
       "      <td>0.000</td>\n",
       "    </tr>\n",
       "    <tr>\n",
       "      <th>56765</th>\n",
       "      <td>94.480</td>\n",
       "      <td>2.907</td>\n",
       "      <td>42.712</td>\n",
       "      <td>121.089</td>\n",
       "      <td>2.1345</td>\n",
       "      <td>231.4775</td>\n",
       "      <td>-0.2615</td>\n",
       "      <td>1.758</td>\n",
       "      <td>24.398</td>\n",
       "      <td>171.724</td>\n",
       "      <td>...</td>\n",
       "      <td>92.244</td>\n",
       "      <td>2.180</td>\n",
       "      <td>276.539</td>\n",
       "      <td>116.143</td>\n",
       "      <td>0.975</td>\n",
       "      <td>-0.966</td>\n",
       "      <td>48.561</td>\n",
       "      <td>-0.025</td>\n",
       "      <td>-0.066</td>\n",
       "      <td>116.143</td>\n",
       "    </tr>\n",
       "  </tbody>\n",
       "</table>\n",
       "<p>5 rows × 29 columns</p>\n",
       "</div>"
      ],
      "text/plain": [
       "       DER_mass_MMC  DER_mass_transverse_met_lep  DER_mass_vis  DER_pt_h  \\\n",
       "35221       138.334                       56.509        72.079    68.427   \n",
       "53826        87.484                       45.383        64.766   194.931   \n",
       "71409       115.476                       43.402        74.921   119.702   \n",
       "6778        112.517                       84.446        46.167     0.718   \n",
       "56765        94.480                        2.907        42.712   121.089   \n",
       "\n",
       "       DER_deltaeta_jet_jet  DER_mass_jet_jet  DER_prodeta_jet_jet  \\\n",
       "35221                2.1345          231.4775              -0.2615   \n",
       "53826                4.1390          736.8810              -3.7510   \n",
       "71409                2.1345          231.4775              -0.2615   \n",
       "6778                 2.1345          231.4775              -0.2615   \n",
       "56765                2.1345          231.4775              -0.2615   \n",
       "\n",
       "       DER_deltar_tau_lep  DER_pt_tot  DER_sum_pt       ...        PRI_met  \\\n",
       "35221               2.637      24.170     116.977       ...         45.458   \n",
       "53826               0.957       2.255     437.348       ...         39.148   \n",
       "71409               2.085       0.929     185.484       ...         66.619   \n",
       "6778                1.721       0.718      60.994       ...         45.835   \n",
       "56765               1.758      24.398     171.724       ...         92.244   \n",
       "\n",
       "       PRI_met_phi  PRI_met_sumet  PRI_jet_leading_pt  PRI_jet_leading_eta  \\\n",
       "35221       -0.791        218.176              46.823               -4.191   \n",
       "53826       -0.766        455.880             228.807                1.340   \n",
       "71409        0.872        215.555             120.622               -0.788   \n",
       "6778        -1.497         64.478              64.825                0.003   \n",
       "56765        2.180        276.539             116.143                0.975   \n",
       "\n",
       "       PRI_jet_leading_phi  PRI_jet_subleading_pt  PRI_jet_subleading_eta  \\\n",
       "35221                2.271                 48.561                  -0.025   \n",
       "53826                2.898                 36.603                  -2.800   \n",
       "71409               -2.690                 48.561                  -0.025   \n",
       "6778                -0.007                 48.561                  -0.025   \n",
       "56765               -0.966                 48.561                  -0.025   \n",
       "\n",
       "       PRI_jet_subleading_phi  PRI_jet_all_pt  \n",
       "35221                  -0.066          46.823  \n",
       "53826                   0.022         265.410  \n",
       "71409                  -0.066         120.622  \n",
       "6778                   -0.066           0.000  \n",
       "56765                  -0.066         116.143  \n",
       "\n",
       "[5 rows x 29 columns]"
      ]
     },
     "execution_count": 30,
     "metadata": {},
     "output_type": "execute_result"
    }
   ],
   "source": [
    "# lihat x_train_numerical\n",
    "x_train_numerical.head()"
   ]
  },
  {
   "cell_type": "markdown",
   "metadata": {},
   "source": [
    "#### 2) Categorical Imputation"
   ]
  },
  {
   "cell_type": "code",
   "execution_count": 31,
   "metadata": {
    "collapsed": true
   },
   "outputs": [],
   "source": [
    "x_train_categorical = x_train[categorical]"
   ]
  },
  {
   "cell_type": "code",
   "execution_count": 32,
   "metadata": {
    "collapsed": false
   },
   "outputs": [
    {
     "data": {
      "text/plain": [
       "PRI_jet_num    222\n",
       "dtype: int64"
      ]
     },
     "execution_count": 32,
     "metadata": {},
     "output_type": "execute_result"
    }
   ],
   "source": [
    "# cek dari x train categorical apakah ada yang null atau tidak\n",
    "x_train_categorical.isnull().sum()"
   ]
  },
  {
   "cell_type": "code",
   "execution_count": 33,
   "metadata": {
    "collapsed": true
   },
   "outputs": [],
   "source": [
    "def categoricalImputation(data, categorical_columns):\n",
    "    categorical_data = data[categorical_columns].fillna(value=\"KOSONG\")\n",
    "    # isi NaN dari data categoric dengan \"KOSONG\"\n",
    "    return  categorical_data\n",
    "\n",
    "x_train_categorical = categoricalImputation(data = x_train_categorical, categorical_columns = categorical)"
   ]
  },
  {
   "cell_type": "code",
   "execution_count": 34,
   "metadata": {
    "collapsed": false
   },
   "outputs": [
    {
     "data": {
      "text/plain": [
       "0.0       0.397013\n",
       "1.0       0.305760\n",
       "2.0       0.197333\n",
       "3.0       0.088053\n",
       "KOSONG    0.011840\n",
       "Name: PRI_jet_num, dtype: float64"
      ]
     },
     "execution_count": 34,
     "metadata": {},
     "output_type": "execute_result"
    }
   ],
   "source": [
    "#lihat x_train_categorical\n",
    "x_train_categorical['PRI_jet_num'].value_counts(normalize=True)"
   ]
  },
  {
   "cell_type": "markdown",
   "metadata": {},
   "source": [
    "### b. Preprocessing Categorical Variables"
   ]
  },
  {
   "cell_type": "markdown",
   "metadata": {},
   "source": [
    "Kita tidak bisa memasukan data categorical, jika tidak diubah menjadi numerical.\n",
    "\n",
    "solusi: DUMMIES VARIABLE\n"
   ]
  },
  {
   "cell_type": "code",
   "execution_count": 35,
   "metadata": {
    "collapsed": true
   },
   "outputs": [],
   "source": [
    "# Create dummy variables\n",
    "def dummyVariables(data, categorical_columns):\n",
    "    data_cat = data[categorical_columns]\n",
    "    data_cat = pd.get_dummies(data = data_cat, prefix = categorical_columns)\n",
    "    #prefix untuk memberikan nama depan di variable dummy sesuai dengan nama variable aslinya\n",
    "    \n",
    "    return data_cat\n",
    "\n",
    "categorical_dummies = dummyVariables(data = x_train_categorical, categorical_columns = categorical)"
   ]
  },
  {
   "cell_type": "code",
   "execution_count": 36,
   "metadata": {
    "collapsed": false
   },
   "outputs": [
    {
     "data": {
      "text/html": [
       "<div>\n",
       "<table border=\"1\" class=\"dataframe\">\n",
       "  <thead>\n",
       "    <tr style=\"text-align: right;\">\n",
       "      <th></th>\n",
       "      <th>PRI_jet_num_0.0</th>\n",
       "      <th>PRI_jet_num_1.0</th>\n",
       "      <th>PRI_jet_num_2.0</th>\n",
       "      <th>PRI_jet_num_3.0</th>\n",
       "      <th>PRI_jet_num_KOSONG</th>\n",
       "    </tr>\n",
       "  </thead>\n",
       "  <tbody>\n",
       "    <tr>\n",
       "      <th>35221</th>\n",
       "      <td>0</td>\n",
       "      <td>1</td>\n",
       "      <td>0</td>\n",
       "      <td>0</td>\n",
       "      <td>0</td>\n",
       "    </tr>\n",
       "    <tr>\n",
       "      <th>53826</th>\n",
       "      <td>0</td>\n",
       "      <td>0</td>\n",
       "      <td>1</td>\n",
       "      <td>0</td>\n",
       "      <td>0</td>\n",
       "    </tr>\n",
       "    <tr>\n",
       "      <th>71409</th>\n",
       "      <td>0</td>\n",
       "      <td>1</td>\n",
       "      <td>0</td>\n",
       "      <td>0</td>\n",
       "      <td>0</td>\n",
       "    </tr>\n",
       "    <tr>\n",
       "      <th>6778</th>\n",
       "      <td>1</td>\n",
       "      <td>0</td>\n",
       "      <td>0</td>\n",
       "      <td>0</td>\n",
       "      <td>0</td>\n",
       "    </tr>\n",
       "    <tr>\n",
       "      <th>56765</th>\n",
       "      <td>0</td>\n",
       "      <td>1</td>\n",
       "      <td>0</td>\n",
       "      <td>0</td>\n",
       "      <td>0</td>\n",
       "    </tr>\n",
       "  </tbody>\n",
       "</table>\n",
       "</div>"
      ],
      "text/plain": [
       "       PRI_jet_num_0.0  PRI_jet_num_1.0  PRI_jet_num_2.0  PRI_jet_num_3.0  \\\n",
       "35221                0                1                0                0   \n",
       "53826                0                0                1                0   \n",
       "71409                0                1                0                0   \n",
       "6778                 1                0                0                0   \n",
       "56765                0                1                0                0   \n",
       "\n",
       "       PRI_jet_num_KOSONG  \n",
       "35221                   0  \n",
       "53826                   0  \n",
       "71409                   0  \n",
       "6778                    0  \n",
       "56765                   0  "
      ]
     },
     "execution_count": 36,
     "metadata": {},
     "output_type": "execute_result"
    }
   ],
   "source": [
    "#lihat hasil dummy variables\n",
    "categorical_dummies.head()"
   ]
  },
  {
   "cell_type": "code",
   "execution_count": 37,
   "metadata": {
    "collapsed": false
   },
   "outputs": [
    {
     "data": {
      "text/plain": [
       "(18750, 5)"
      ]
     },
     "execution_count": 37,
     "metadata": {},
     "output_type": "execute_result"
    }
   ],
   "source": [
    "categorical_dummies.shape"
   ]
  },
  {
   "cell_type": "markdown",
   "metadata": {},
   "source": [
    "#### Join Numerical and Categorical"
   ]
  },
  {
   "cell_type": "code",
   "execution_count": 38,
   "metadata": {
    "collapsed": true
   },
   "outputs": [],
   "source": [
    "# untuk menggabungkan numerical dan categorical digunakan pd.concat\n",
    "x_train = pd.concat([x_train_numerical, categorical_dummies], axis =1)"
   ]
  },
  {
   "cell_type": "code",
   "execution_count": 39,
   "metadata": {
    "collapsed": false
   },
   "outputs": [
    {
     "data": {
      "text/plain": [
       "DER_mass_MMC                   0\n",
       "DER_mass_transverse_met_lep    0\n",
       "DER_mass_vis                   0\n",
       "DER_pt_h                       0\n",
       "DER_deltaeta_jet_jet           0\n",
       "DER_mass_jet_jet               0\n",
       "DER_prodeta_jet_jet            0\n",
       "DER_deltar_tau_lep             0\n",
       "DER_pt_tot                     0\n",
       "DER_sum_pt                     0\n",
       "DER_pt_ratio_lep_tau           0\n",
       "DER_met_phi_centrality         0\n",
       "DER_lep_eta_centrality         0\n",
       "PRI_tau_pt                     0\n",
       "PRI_tau_eta                    0\n",
       "PRI_tau_phi                    0\n",
       "PRI_lep_pt                     0\n",
       "PRI_lep_eta                    0\n",
       "PRI_lep_phi                    0\n",
       "PRI_met                        0\n",
       "PRI_met_phi                    0\n",
       "PRI_met_sumet                  0\n",
       "PRI_jet_leading_pt             0\n",
       "PRI_jet_leading_eta            0\n",
       "PRI_jet_leading_phi            0\n",
       "PRI_jet_subleading_pt          0\n",
       "PRI_jet_subleading_eta         0\n",
       "PRI_jet_subleading_phi         0\n",
       "PRI_jet_all_pt                 0\n",
       "PRI_jet_num_0.0                0\n",
       "PRI_jet_num_1.0                0\n",
       "PRI_jet_num_2.0                0\n",
       "PRI_jet_num_3.0                0\n",
       "PRI_jet_num_KOSONG             0\n",
       "dtype: int64"
      ]
     },
     "execution_count": 39,
     "metadata": {},
     "output_type": "execute_result"
    }
   ],
   "source": [
    "x_train.isnull().sum()"
   ]
  },
  {
   "cell_type": "markdown",
   "metadata": {},
   "source": [
    "#### 5. Normalizing/Standardizing Numerical Variables"
   ]
  },
  {
   "cell_type": "markdown",
   "metadata": {},
   "source": [
    "* KEGUNAAN: Menyamakan skala dari variable input\n",
    "* fit: imputer agar mengetahui mean standard deviasi  dari setiap column\n",
    "* transform: isi data dengan value yang dinormalisasi\n",
    "* output dari transform berupda pd dataframe\n",
    "* normalize dikeluarkan karena akan dipakai di test"
   ]
  },
  {
   "cell_type": "code",
   "execution_count": 40,
   "metadata": {
    "collapsed": true
   },
   "outputs": [],
   "source": [
    "# import StandardScaler function which can automatically return the normalized variable\n",
    "from sklearn.preprocessing import StandardScaler\n",
    "\n",
    "def standardizer(data):\n",
    "    data_columns = data.columns  # agar nama column tidak hilang\n",
    "    data_index = data.index # agar index tidak hilang\n",
    "    normalize = StandardScaler()\n",
    "    normalize.fit(data)\n",
    "    \n",
    "    normalized_data = pd.DataFrame(normalize.transform(data), index = data_index)\n",
    "    normalized_data.columns = data_columns\n",
    "    return normalized_data, normalize\n",
    "\n",
    "x_train, normalize = standardizer(x_train)\n",
    "\n",
    "from sklearn.preprocessing import StandardScaler\n"
   ]
  },
  {
   "cell_type": "code",
   "execution_count": 41,
   "metadata": {
    "collapsed": false
   },
   "outputs": [
    {
     "data": {
      "text/html": [
       "<div>\n",
       "<table border=\"1\" class=\"dataframe\">\n",
       "  <thead>\n",
       "    <tr style=\"text-align: right;\">\n",
       "      <th></th>\n",
       "      <th>DER_mass_MMC</th>\n",
       "      <th>DER_mass_transverse_met_lep</th>\n",
       "      <th>DER_mass_vis</th>\n",
       "      <th>DER_pt_h</th>\n",
       "      <th>DER_deltaeta_jet_jet</th>\n",
       "      <th>DER_mass_jet_jet</th>\n",
       "      <th>DER_prodeta_jet_jet</th>\n",
       "      <th>DER_deltar_tau_lep</th>\n",
       "      <th>DER_pt_tot</th>\n",
       "      <th>DER_sum_pt</th>\n",
       "      <th>...</th>\n",
       "      <th>PRI_jet_leading_phi</th>\n",
       "      <th>PRI_jet_subleading_pt</th>\n",
       "      <th>PRI_jet_subleading_eta</th>\n",
       "      <th>PRI_jet_subleading_phi</th>\n",
       "      <th>PRI_jet_all_pt</th>\n",
       "      <th>PRI_jet_num_0.0</th>\n",
       "      <th>PRI_jet_num_1.0</th>\n",
       "      <th>PRI_jet_num_2.0</th>\n",
       "      <th>PRI_jet_num_3.0</th>\n",
       "      <th>PRI_jet_num_KOSONG</th>\n",
       "    </tr>\n",
       "  </thead>\n",
       "  <tbody>\n",
       "    <tr>\n",
       "      <th>35221</th>\n",
       "      <td>0.343423</td>\n",
       "      <td>0.211664</td>\n",
       "      <td>-0.227805</td>\n",
       "      <td>0.162258</td>\n",
       "      <td>-0.089615</td>\n",
       "      <td>-0.186635</td>\n",
       "      <td>0.089851</td>\n",
       "      <td>0.342983</td>\n",
       "      <td>0.242367</td>\n",
       "      <td>-0.355451</td>\n",
       "      <td>...</td>\n",
       "      <td>1.621867</td>\n",
       "      <td>-0.153874</td>\n",
       "      <td>-0.007936</td>\n",
       "      <td>-0.007997</td>\n",
       "      <td>-0.264957</td>\n",
       "      <td>-0.811426</td>\n",
       "      <td>1.506831</td>\n",
       "      <td>-0.495830</td>\n",
       "      <td>-0.310734</td>\n",
       "      <td>-0.109462</td>\n",
       "    </tr>\n",
       "    <tr>\n",
       "      <th>53826</th>\n",
       "      <td>-0.635430</td>\n",
       "      <td>-0.110655</td>\n",
       "      <td>-0.407830</td>\n",
       "      <td>2.156450</td>\n",
       "      <td>2.003755</td>\n",
       "      <td>2.023368</td>\n",
       "      <td>-1.690263</td>\n",
       "      <td>-1.790799</td>\n",
       "      <td>-0.770231</td>\n",
       "      <td>2.390896</td>\n",
       "      <td>...</td>\n",
       "      <td>2.070021</td>\n",
       "      <td>-0.794679</td>\n",
       "      <td>-2.530012</td>\n",
       "      <td>0.083125</td>\n",
       "      <td>1.936815</td>\n",
       "      <td>-0.811426</td>\n",
       "      <td>-0.663645</td>\n",
       "      <td>2.016821</td>\n",
       "      <td>-0.310734</td>\n",
       "      <td>-0.109462</td>\n",
       "    </tr>\n",
       "    <tr>\n",
       "      <th>71409</th>\n",
       "      <td>-0.096590</td>\n",
       "      <td>-0.168045</td>\n",
       "      <td>-0.157843</td>\n",
       "      <td>0.970550</td>\n",
       "      <td>-0.089615</td>\n",
       "      <td>-0.186635</td>\n",
       "      <td>0.089851</td>\n",
       "      <td>-0.358117</td>\n",
       "      <td>-0.831500</td>\n",
       "      <td>0.231818</td>\n",
       "      <td>...</td>\n",
       "      <td>-1.924056</td>\n",
       "      <td>-0.153874</td>\n",
       "      <td>-0.007936</td>\n",
       "      <td>-0.007997</td>\n",
       "      <td>0.478402</td>\n",
       "      <td>-0.811426</td>\n",
       "      <td>1.506831</td>\n",
       "      <td>-0.495830</td>\n",
       "      <td>-0.310734</td>\n",
       "      <td>-0.109462</td>\n",
       "    </tr>\n",
       "    <tr>\n",
       "      <th>6778</th>\n",
       "      <td>-0.153550</td>\n",
       "      <td>1.020998</td>\n",
       "      <td>-0.865684</td>\n",
       "      <td>-0.905098</td>\n",
       "      <td>-0.089615</td>\n",
       "      <td>-0.186635</td>\n",
       "      <td>0.089851</td>\n",
       "      <td>-0.820436</td>\n",
       "      <td>-0.841249</td>\n",
       "      <td>-0.835359</td>\n",
       "      <td>...</td>\n",
       "      <td>-0.006356</td>\n",
       "      <td>-0.153874</td>\n",
       "      <td>-0.007936</td>\n",
       "      <td>-0.007997</td>\n",
       "      <td>-0.736594</td>\n",
       "      <td>1.232399</td>\n",
       "      <td>-0.663645</td>\n",
       "      <td>-0.495830</td>\n",
       "      <td>-0.310734</td>\n",
       "      <td>-0.109462</td>\n",
       "    </tr>\n",
       "    <tr>\n",
       "      <th>56765</th>\n",
       "      <td>-0.500759</td>\n",
       "      <td>-1.341183</td>\n",
       "      <td>-0.950736</td>\n",
       "      <td>0.992415</td>\n",
       "      <td>-0.089615</td>\n",
       "      <td>-0.186635</td>\n",
       "      <td>0.089851</td>\n",
       "      <td>-0.773442</td>\n",
       "      <td>0.252902</td>\n",
       "      <td>0.113862</td>\n",
       "      <td>...</td>\n",
       "      <td>-0.691810</td>\n",
       "      <td>-0.153874</td>\n",
       "      <td>-0.007936</td>\n",
       "      <td>-0.007997</td>\n",
       "      <td>0.433286</td>\n",
       "      <td>-0.811426</td>\n",
       "      <td>1.506831</td>\n",
       "      <td>-0.495830</td>\n",
       "      <td>-0.310734</td>\n",
       "      <td>-0.109462</td>\n",
       "    </tr>\n",
       "  </tbody>\n",
       "</table>\n",
       "<p>5 rows × 34 columns</p>\n",
       "</div>"
      ],
      "text/plain": [
       "       DER_mass_MMC  DER_mass_transverse_met_lep  DER_mass_vis  DER_pt_h  \\\n",
       "35221      0.343423                     0.211664     -0.227805  0.162258   \n",
       "53826     -0.635430                    -0.110655     -0.407830  2.156450   \n",
       "71409     -0.096590                    -0.168045     -0.157843  0.970550   \n",
       "6778      -0.153550                     1.020998     -0.865684 -0.905098   \n",
       "56765     -0.500759                    -1.341183     -0.950736  0.992415   \n",
       "\n",
       "       DER_deltaeta_jet_jet  DER_mass_jet_jet  DER_prodeta_jet_jet  \\\n",
       "35221             -0.089615         -0.186635             0.089851   \n",
       "53826              2.003755          2.023368            -1.690263   \n",
       "71409             -0.089615         -0.186635             0.089851   \n",
       "6778              -0.089615         -0.186635             0.089851   \n",
       "56765             -0.089615         -0.186635             0.089851   \n",
       "\n",
       "       DER_deltar_tau_lep  DER_pt_tot  DER_sum_pt         ...          \\\n",
       "35221            0.342983    0.242367   -0.355451         ...           \n",
       "53826           -1.790799   -0.770231    2.390896         ...           \n",
       "71409           -0.358117   -0.831500    0.231818         ...           \n",
       "6778            -0.820436   -0.841249   -0.835359         ...           \n",
       "56765           -0.773442    0.252902    0.113862         ...           \n",
       "\n",
       "       PRI_jet_leading_phi  PRI_jet_subleading_pt  PRI_jet_subleading_eta  \\\n",
       "35221             1.621867              -0.153874               -0.007936   \n",
       "53826             2.070021              -0.794679               -2.530012   \n",
       "71409            -1.924056              -0.153874               -0.007936   \n",
       "6778             -0.006356              -0.153874               -0.007936   \n",
       "56765            -0.691810              -0.153874               -0.007936   \n",
       "\n",
       "       PRI_jet_subleading_phi  PRI_jet_all_pt  PRI_jet_num_0.0  \\\n",
       "35221               -0.007997       -0.264957        -0.811426   \n",
       "53826                0.083125        1.936815        -0.811426   \n",
       "71409               -0.007997        0.478402        -0.811426   \n",
       "6778                -0.007997       -0.736594         1.232399   \n",
       "56765               -0.007997        0.433286        -0.811426   \n",
       "\n",
       "       PRI_jet_num_1.0  PRI_jet_num_2.0  PRI_jet_num_3.0  PRI_jet_num_KOSONG  \n",
       "35221         1.506831        -0.495830        -0.310734           -0.109462  \n",
       "53826        -0.663645         2.016821        -0.310734           -0.109462  \n",
       "71409         1.506831        -0.495830        -0.310734           -0.109462  \n",
       "6778         -0.663645        -0.495830        -0.310734           -0.109462  \n",
       "56765         1.506831        -0.495830        -0.310734           -0.109462  \n",
       "\n",
       "[5 rows x 34 columns]"
      ]
     },
     "execution_count": 41,
     "metadata": {},
     "output_type": "execute_result"
    }
   ],
   "source": [
    "x_train.head()"
   ]
  },
  {
   "cell_type": "markdown",
   "metadata": {},
   "source": [
    "## Training Machine Learning"
   ]
  },
  {
   "cell_type": "markdown",
   "metadata": {},
   "source": [
    "## Benchmark"
   ]
  },
  {
   "cell_type": "code",
   "execution_count": 44,
   "metadata": {
    "collapsed": false
   },
   "outputs": [
    {
     "data": {
      "text/plain": [
       "b    0.661653\n",
       "s    0.338347\n",
       "Name: Label, dtype: float64"
      ]
     },
     "execution_count": 44,
     "metadata": {},
     "output_type": "execute_result"
    }
   ],
   "source": [
    "y_train.value_counts(normalize=True)"
   ]
  },
  {
   "cell_type": "markdown",
   "metadata": {},
   "source": [
    "#### 1. Import classifier, randomsearchCV\n",
    "* KNeighborsClassifier adalah classifier kita\n",
    "* RandomizedSearchCV adalah cara menentukan hyperparam atau complexity terbaik dengan cross validation\n",
    "\n",
    "#### 2. Definisikan hyperparameter space\n",
    "* Hal ini tergantung model\n",
    "* Untuk hyperparameter apa saja yang ada di dalam classifier, bisa gunakan '?' di depan function\n",
    "\n",
    "#### 3.  Definisikan Random Search for best Hyperparameter, menggunakan Cross Validation\n",
    "* argument pertama = classifier, contoh knn (harus didefinisikan terlebih dahulu seperti di atas\n",
    "* argument kedua = param_dist, ini adalah hyperparameter space sesuai mode, contoh nilai K \n",
    "* argument ketiga = CV, jumlah banyaknya cross validation, misal 5\n",
    "* argument keempat = scoring, score yang ingin dioptimisasi, contoh accuracy\n",
    "* argument kelima = n_jobs, distibusikan komputasi, -1 adalah distribusikan komputasi ke semua core\n",
    "* argument keenam = random state, kunci random, HARUS DIISI, contoh 123\n",
    "* argument ketujuh = n_iter,  jumlah BERAPA KALI kita mencari hyperparameter secara random, misal: 8\n",
    "\n",
    "#### 4. Fitting\n",
    "\n",
    "#### 5. Cek hyperparameter terbaik, cek score dari hyperparameter terbaik\n",
    "\n"
   ]
  },
  {
   "cell_type": "markdown",
   "metadata": {},
   "source": [
    "### 1. K-Nearest Neighbors"
   ]
  },
  {
   "cell_type": "code",
   "execution_count": 45,
   "metadata": {
    "collapsed": true
   },
   "outputs": [],
   "source": [
    "#1. Import classifier, Randomized Search\n",
    "from sklearn.neighbors import KNeighborsClassifier\n",
    "from sklearn.model_selection import RandomizedSearchCV"
   ]
  },
  {
   "cell_type": "code",
   "execution_count": 47,
   "metadata": {
    "collapsed": true
   },
   "outputs": [],
   "source": [
    "def knn_fit(x_train, y_train, scoring = 'accuracy'):\n",
    "    # define the classifier:\n",
    "    knn = KNeighborsClassifier()\n",
    "\n",
    "    # define hyperparameter\n",
    "    hyperparam = {'n_neighbors': [1, 2, 3, 4, 5, 8, 11, 16, 21, 32, 64, 128]}\n",
    "    # define Randomized Search\n",
    "    # GridSearch\n",
    "    random_knn = RandomizedSearchCV(knn, param_distributions = hyperparam, cv = 5,\n",
    "                                    n_iter = 3, scoring = scoring, n_jobs=-1, random_state = 123)\n",
    "#     scoring dapat diganti dengan accuracy, precision, recall\n",
    "#     GridSearch lebih baik, namun tidak effisien\n",
    "#     n_iter = 6\n",
    "    # fitting randomized Search\n",
    "    random_knn.fit(x_train, y_train)\n",
    "    \n",
    "    #check the best hyperparameters\n",
    "    print \"Best Accuracy\", random_knn.score(x_train, y_train)\n",
    "    print \"Best Param\", random_knn.best_params_\n",
    "    return random_knn "
   ]
  },
  {
   "cell_type": "code",
   "execution_count": 49,
   "metadata": {
    "collapsed": false
   },
   "outputs": [],
   "source": [
    "from sklearn.model_selection import GridSearchCV\n",
    "\n",
    "## "
   ]
  },
  {
   "cell_type": "code",
   "execution_count": 50,
   "metadata": {
    "collapsed": false
   },
   "outputs": [
    {
     "name": "stdout",
     "output_type": "stream",
     "text": [
      "Best Accuracy 0.824053333333\n",
      "Best Param {'n_neighbors': 8}\n"
     ]
    }
   ],
   "source": [
    "best_knn = knn_fit(x_train, y_train)"
   ]
  },
  {
   "cell_type": "markdown",
   "metadata": {},
   "source": [
    "Jika model terpilih ingin disimpan, lebih baik melakukan fitting dengan menggunakan \n",
    "hyperparameter terbaik hasil Randomized Search, jika langsung menyimpan model hasil Randomized Search, \n",
    "size dari file nya terlalu besar"
   ]
  },
  {
   "cell_type": "code",
   "execution_count": 51,
   "metadata": {
    "collapsed": false
   },
   "outputs": [
    {
     "data": {
      "text/plain": [
       "KNeighborsClassifier(algorithm='auto', leaf_size=30, metric='minkowski',\n",
       "           metric_params=None, n_jobs=1, n_neighbors=8, p=2,\n",
       "           weights='uniform')"
      ]
     },
     "execution_count": 51,
     "metadata": {},
     "output_type": "execute_result"
    }
   ],
   "source": [
    "# define KNN dengan k hasil dari Randomized Search\n",
    "knn = KNeighborsClassifier(n_neighbors = best_knn.best_params_.get('n_neighbors'))\n",
    "# fitting KNN\n",
    "knn.fit(x_train, y_train)"
   ]
  },
  {
   "cell_type": "code",
   "execution_count": 52,
   "metadata": {
    "collapsed": false
   },
   "outputs": [
    {
     "data": {
      "text/plain": [
       "0.8240533333333333"
      ]
     },
     "execution_count": 52,
     "metadata": {},
     "output_type": "execute_result"
    }
   ],
   "source": [
    "knn.score(x_train, y_train)\n",
    "## menghitung distance, k, sampai prediction"
   ]
  },
  {
   "cell_type": "code",
   "execution_count": 54,
   "metadata": {
    "collapsed": false
   },
   "outputs": [],
   "source": [
    "from sklearn.model_selection import cross_val_score"
   ]
  },
  {
   "cell_type": "code",
   "execution_count": 55,
   "metadata": {
    "collapsed": true
   },
   "outputs": [],
   "source": [
    "knnCV = cross_val_score(knn, x_train, y_train, cv =3, n_jobs=-1)"
   ]
  },
  {
   "cell_type": "code",
   "execution_count": 57,
   "metadata": {
    "collapsed": false
   },
   "outputs": [
    {
     "name": "stdout",
     "output_type": "stream",
     "text": [
      "('rataan: ', 0.77093346597547008)\n",
      "('maximum: ', 0.77324371899503919)\n",
      "('minimum: ', 0.76880000000000004)\n"
     ]
    }
   ],
   "source": [
    "print('rataan: ',knnCV.mean())\n",
    "print('maximum: ',knnCV.max())\n",
    "print('minimum: ',knnCV.min())"
   ]
  },
  {
   "cell_type": "markdown",
   "metadata": {},
   "source": [
    "#### Import  classifiers"
   ]
  },
  {
   "cell_type": "code",
   "execution_count": 58,
   "metadata": {
    "collapsed": true
   },
   "outputs": [],
   "source": [
    "from sklearn.linear_model import LogisticRegression\n",
    "from sklearn.tree import DecisionTreeClassifier\n",
    "from sklearn.svm import SVC\n",
    "from sklearn.ensemble import BaggingClassifier, RandomForestClassifier, AdaBoostClassifier, GradientBoostingClassifier\n",
    "from sklearn.model_selection import RandomizedSearchCV\n",
    "from sklearn.metrics import accuracy_score, recall_score, precision_score, f1_score, roc_auc_score, log_loss\n",
    "from sklearn.externals import joblib"
   ]
  },
  {
   "cell_type": "markdown",
   "metadata": {},
   "source": [
    "### 2. Logistic Regression"
   ]
  },
  {
   "cell_type": "code",
   "execution_count": 59,
   "metadata": {
    "collapsed": true
   },
   "outputs": [],
   "source": [
    "?LogisticRegression"
   ]
  },
  {
   "cell_type": "code",
   "execution_count": 60,
   "metadata": {
    "collapsed": false
   },
   "outputs": [],
   "source": [
    "def logreg_fit(x_train, y_train, scoring = 'accuracy'):\n",
    "    logreg = LogisticRegression(random_state=123)\n",
    "\n",
    "    hyperparam = {'C': [1000, 333.33, 100, 33.33, 10, 3.33, 10, 3.33, 1, 0.33, 0.1, 0.033, 0.01, 0.0033, \n",
    "                        0.001, 0.00033, 0.0001]}\n",
    "\n",
    "    random_logreg = RandomizedSearchCV(logreg, param_distributions = hyperparam, cv = 5,\n",
    "                                    n_iter = 12, scoring = scoring, n_jobs=-1, random_state = 123)\n",
    "    \n",
    "    random_logreg.fit(x_train, y_train)\n",
    "    \n",
    "    print \"Best Accuracy\", random_logreg.score(x_train, y_train)\n",
    "    print \"Best Param\", random_logreg.best_params_\n",
    "    \n",
    "    return random_logreg "
   ]
  },
  {
   "cell_type": "code",
   "execution_count": 61,
   "metadata": {
    "collapsed": false
   },
   "outputs": [
    {
     "name": "stdout",
     "output_type": "stream",
     "text": [
      "Best Accuracy 0.75488\n",
      "Best Param {'C': 1000}\n"
     ]
    }
   ],
   "source": [
    "best_logreg = logreg_fit(x_train, y_train) "
   ]
  },
  {
   "cell_type": "code",
   "execution_count": 62,
   "metadata": {
    "collapsed": false,
    "scrolled": true
   },
   "outputs": [
    {
     "data": {
      "text/plain": [
       "LogisticRegression(C=1000, class_weight=None, dual=False, fit_intercept=True,\n",
       "          intercept_scaling=1, max_iter=100, multi_class='ovr', n_jobs=1,\n",
       "          penalty='l2', random_state=123, solver='liblinear', tol=0.0001,\n",
       "          verbose=0, warm_start=False)"
      ]
     },
     "execution_count": 62,
     "metadata": {},
     "output_type": "execute_result"
    }
   ],
   "source": [
    "logreg = LogisticRegression(C = best_logreg.best_params_.get('C'), random_state = 123)\n",
    "logreg.fit(x_train, y_train)"
   ]
  },
  {
   "cell_type": "markdown",
   "metadata": {},
   "source": [
    "### 3. Linear SVC"
   ]
  },
  {
   "cell_type": "code",
   "execution_count": 61,
   "metadata": {
    "collapsed": true
   },
   "outputs": [],
   "source": [
    "?SVC"
   ]
  },
  {
   "cell_type": "code",
   "execution_count": 63,
   "metadata": {
    "collapsed": true
   },
   "outputs": [],
   "source": [
    "from sklearn.svm import LinearSVC"
   ]
  },
  {
   "cell_type": "code",
   "execution_count": 66,
   "metadata": {
    "collapsed": true
   },
   "outputs": [],
   "source": [
    "def linSVC_fit(x_train, y_train, scoring = 'accuracy'):\n",
    "    linSVC = SVC(kernel = 'linear', random_state=123)\n",
    "\n",
    "    hyperparam = {'C': [1000, 333.33, 100, 33.33, 10, 3.33, 10, 3.33, 1, 0.33, 0.1, 0.033, 0.01, 0.0033, \n",
    "                        0.001, 0.00033, 0.0001]}\n",
    "\n",
    "    random_linSVC = RandomizedSearchCV(linSVC, param_distributions = hyperparam, cv = 5,\n",
    "                                    n_iter = 6, scoring = scoring, n_jobs=-1, random_state = 123) # verbose = True\n",
    "    \n",
    "    random_linSVC.fit(x_train, y_train)\n",
    "    \n",
    "    print \"Best Accuracy\", random_linSVC.score(x_train, y_train)\n",
    "    print \"Best Param\", random_linSVC.best_params_\n",
    "    \n",
    "    return random_linSVC "
   ]
  },
  {
   "cell_type": "code",
   "execution_count": 67,
   "metadata": {
    "collapsed": false
   },
   "outputs": [
    {
     "name": "stdout",
     "output_type": "stream",
     "text": [
      "Best Accuracy 0.756\n",
      "Best Param {'C': 0.33}\n"
     ]
    }
   ],
   "source": [
    "best_linSVC = linSVC_fit(x_train, y_train) "
   ]
  },
  {
   "cell_type": "code",
   "execution_count": 64,
   "metadata": {
    "collapsed": false
   },
   "outputs": [
    {
     "data": {
      "text/plain": [
       "SVC(C=1, cache_size=200, class_weight=None, coef0=0.0,\n",
       "  decision_function_shape=None, degree=3, gamma='auto', kernel='linear',\n",
       "  max_iter=-1, probability=False, random_state=123, shrinking=True,\n",
       "  tol=0.001, verbose=False)"
      ]
     },
     "execution_count": 64,
     "metadata": {},
     "output_type": "execute_result"
    }
   ],
   "source": [
    "linSVC = SVC(kernel = 'linear', C = best_linSVC.best_params_.get('C'), random_state = 123)\n",
    "linSVC.fit(x_train, y_train)"
   ]
  },
  {
   "cell_type": "markdown",
   "metadata": {},
   "source": [
    "### 4. RBF Kernel SVC"
   ]
  },
  {
   "cell_type": "code",
   "execution_count": 65,
   "metadata": {
    "collapsed": true
   },
   "outputs": [],
   "source": [
    "def rbfSVC_fit(x_train, y_train, scoring = 'accuracy'):\n",
    "    rbfSVC = SVC(kernel = 'rbf', random_state=123)\n",
    "\n",
    "    hyperparam = {'C': [1000, 333.33, 100, 33.33, 10, 3.33, 10, 3.33, 1, 0.33, 0.1, 0.033, 0.01, 0.0033, \n",
    "                        0.001, 0.00033, 0.0001], \n",
    "                  'gamma' : [10, 3.33, 1, 0.33, 0.1, 0.033, 0.01]}\n",
    "\n",
    "    random_rbfSVC = RandomizedSearchCV(rbfSVC, param_distributions = hyperparam, cv = 5,\n",
    "                                    n_iter = 6, scoring = scoring, n_jobs=-1, random_state = 123)\n",
    "    \n",
    "    random_rbfSVC.fit(x_train, y_train)\n",
    "    \n",
    "    print \"Best Accuracy\", random_rbfSVC.score(x_train, y_train)\n",
    "    print \"Best Param\", random_rbfSVC.best_params_\n",
    "    \n",
    "    return random_rbfSVC "
   ]
  },
  {
   "cell_type": "code",
   "execution_count": 66,
   "metadata": {
    "collapsed": false
   },
   "outputs": [
    {
     "name": "stdout",
     "output_type": "stream",
     "text": [
      "Best Accuracy 0.984323809524\n",
      "Best Param {'C': 1000, 'gamma': 0.1}\n"
     ]
    }
   ],
   "source": [
    "best_rbfSVC = rbfSVC_fit(x_train, y_train) "
   ]
  },
  {
   "cell_type": "code",
   "execution_count": 67,
   "metadata": {
    "collapsed": false
   },
   "outputs": [
    {
     "data": {
      "text/plain": [
       "SVC(C=1000, cache_size=200, class_weight=None, coef0=0.0,\n",
       "  decision_function_shape=None, degree=3, gamma=0.1, kernel='rbf',\n",
       "  max_iter=-1, probability=False, random_state=123, shrinking=True,\n",
       "  tol=0.001, verbose=False)"
      ]
     },
     "execution_count": 67,
     "metadata": {},
     "output_type": "execute_result"
    }
   ],
   "source": [
    "rbfSVC = SVC(kernel = 'rbf', C = best_rbfSVC.best_params_.get('C'), \n",
    "             gamma = best_rbfSVC.best_params_.get('gamma'), random_state = 123)\n",
    "rbfSVC.fit(x_train, y_train)"
   ]
  },
  {
   "cell_type": "markdown",
   "metadata": {},
   "source": [
    "### 5. Decision Tree"
   ]
  },
  {
   "cell_type": "code",
   "execution_count": 68,
   "metadata": {
    "collapsed": true
   },
   "outputs": [],
   "source": [
    "?DecisionTreeClassifier"
   ]
  },
  {
   "cell_type": "code",
   "execution_count": 73,
   "metadata": {
    "collapsed": true
   },
   "outputs": [],
   "source": [
    "def decTree_fit(x_train, y_train, scoring = 'accuracy'):\n",
    "    decTree = DecisionTreeClassifier(random_state=123)\n",
    "\n",
    "    hyperparam = {'min_samples_split': [3, 5, 7, 9, 13, 17, 21, 27, 33, 41, 50, 60, 80, 100],\n",
    "                  'max_features': ['sqrt', 'log2', 0.25, 0.5, 0.75]}\n",
    "\n",
    "    random_decTree = RandomizedSearchCV(decTree, param_distributions = hyperparam, cv = 5,\n",
    "                                        n_iter = 15, scoring = scoring, n_jobs=-1, random_state = 123)\n",
    "    \n",
    "    random_decTree.fit(x_train, y_train)\n",
    "    \n",
    "    print \"Best Accuracy\", random_decTree.score(x_train, y_train)\n",
    "    print \"Best Param\", random_decTree.best_params_\n",
    "    \n",
    "    return random_decTree"
   ]
  },
  {
   "cell_type": "code",
   "execution_count": 74,
   "metadata": {
    "collapsed": false
   },
   "outputs": [
    {
     "name": "stdout",
     "output_type": "stream",
     "text": [
      "Best Accuracy 0.869371428571\n",
      "Best Param {'min_samples_split': 80, 'max_features': 0.75}\n"
     ]
    }
   ],
   "source": [
    "best_decTree = decTree_fit(x_train, y_train)"
   ]
  },
  {
   "cell_type": "code",
   "execution_count": 76,
   "metadata": {
    "collapsed": false
   },
   "outputs": [
    {
     "data": {
      "text/plain": [
       "DecisionTreeClassifier(class_weight=None, criterion='gini', max_depth=None,\n",
       "            max_features=0.75, max_leaf_nodes=None,\n",
       "            min_impurity_split=1e-07, min_samples_leaf=1,\n",
       "            min_samples_split=80, min_weight_fraction_leaf=0.0,\n",
       "            presort=False, random_state=123, splitter='best')"
      ]
     },
     "execution_count": 76,
     "metadata": {},
     "output_type": "execute_result"
    }
   ],
   "source": [
    "decTree = DecisionTreeClassifier(min_samples_split = best_decTree.best_params_.get('min_samples_split'),\n",
    "                                 max_features = best_decTree.best_params_.get('max_features'), random_state=123)\n",
    "decTree.fit(x_train, y_train)"
   ]
  },
  {
   "cell_type": "markdown",
   "metadata": {},
   "source": [
    "### 6. Bootstrap Aggregating"
   ]
  },
  {
   "cell_type": "markdown",
   "metadata": {},
   "source": [
    "Bagging bisa digunakan untuk semua classifiers"
   ]
  },
  {
   "cell_type": "code",
   "execution_count": 77,
   "metadata": {
    "collapsed": true
   },
   "outputs": [],
   "source": [
    "?BaggingClassifier"
   ]
  },
  {
   "cell_type": "code",
   "execution_count": 78,
   "metadata": {
    "collapsed": false
   },
   "outputs": [],
   "source": [
    "base_estimator = decTree # Kita gunakan decTree hasil Randomized Search pada proses sebelumnya sebagai base_estimators"
   ]
  },
  {
   "cell_type": "code",
   "execution_count": 79,
   "metadata": {
    "collapsed": true
   },
   "outputs": [],
   "source": [
    "def bagging_fit(x_train, y_train, base_estimator = None, scoring = 'accuracy'):\n",
    "    bagging = BaggingClassifier(base_estimator = base_estimator, n_estimators = 1000, random_state=123, n_jobs=-1)\n",
    "\n",
    "    bagging.fit(x_train, y_train)\n",
    "    \n",
    "    print \"Accuracy\", bagging.score(x_train, y_train)\n",
    "    \n",
    "    return bagging"
   ]
  },
  {
   "cell_type": "code",
   "execution_count": 80,
   "metadata": {
    "collapsed": false
   },
   "outputs": [
    {
     "name": "stdout",
     "output_type": "stream",
     "text": [
      "Accuracy 0.880933333333\n"
     ]
    }
   ],
   "source": [
    "bagging = bagging_fit(x_train, y_train, base_estimator = decTree)"
   ]
  },
  {
   "cell_type": "markdown",
   "metadata": {},
   "source": [
    "### 7. Random Forest"
   ]
  },
  {
   "cell_type": "code",
   "execution_count": 81,
   "metadata": {
    "collapsed": true
   },
   "outputs": [],
   "source": [
    "?RandomForestClassifier"
   ]
  },
  {
   "cell_type": "code",
   "execution_count": 84,
   "metadata": {
    "collapsed": true
   },
   "outputs": [],
   "source": [
    "def randomForest_fit(x_train, y_train, scoring = 'accuracy'):\n",
    "    randomForest = RandomForestClassifier(random_state=123)\n",
    "\n",
    "    hyperparam = {'min_samples_split': [3, 5, 7, 9, 13, 17, 21, 27, 33, 41, 50, 60, 80, 100],\n",
    "                  'max_features': ['sqrt', 'log2', 0.25, 0.5, 0.75], \n",
    "                  'n_estimators': [100, 200, 300, 500, 750, 1000]}\n",
    "    \n",
    "    random_randomForest = RandomizedSearchCV(randomForest, param_distributions = hyperparam, cv = 5, \n",
    "                                           n_iter = 15, scoring = scoring, n_jobs=-1, random_state = 123)\n",
    "    random_randomForest.fit(x_train, y_train)\n",
    "    \n",
    "    print \"Best Accuracy\", random_randomForest.score(x_train, y_train)\n",
    "    print \"Best Param\", random_randomForest.best_params_\n",
    "    return random_randomForest"
   ]
  },
  {
   "cell_type": "code",
   "execution_count": 85,
   "metadata": {
    "collapsed": false
   },
   "outputs": [
    {
     "name": "stdout",
     "output_type": "stream",
     "text": [
      "Best Accuracy 0.997942857143\n",
      "Best Param {'n_estimators': 1000, 'min_samples_split': 5, 'max_features': 'sqrt'}\n"
     ]
    }
   ],
   "source": [
    "best_randForest = randomForest_fit(x_train, y_train)"
   ]
  },
  {
   "cell_type": "code",
   "execution_count": 86,
   "metadata": {
    "collapsed": false
   },
   "outputs": [
    {
     "data": {
      "text/plain": [
       "RandomForestClassifier(bootstrap=True, class_weight=None, criterion='gini',\n",
       "            max_depth=None, max_features='sqrt', max_leaf_nodes=None,\n",
       "            min_impurity_split=1e-07, min_samples_leaf=1,\n",
       "            min_samples_split=5, min_weight_fraction_leaf=0.0,\n",
       "            n_estimators=1000, n_jobs=-1, oob_score=False,\n",
       "            random_state=123, verbose=0, warm_start=False)"
      ]
     },
     "execution_count": 86,
     "metadata": {},
     "output_type": "execute_result"
    }
   ],
   "source": [
    "randForest = RandomForestClassifier(random_state=123, n_jobs = -1,\n",
    "                                   min_samples_split = best_randForest.best_params_.get('min_samples_split'),\n",
    "                                   max_features = best_randForest.best_params_.get('max_features'),\n",
    "                                   n_estimators = best_randForest.best_params_.get('n_estimators'))\n",
    "randForest.fit(x_train, y_train)"
   ]
  },
  {
   "cell_type": "markdown",
   "metadata": {},
   "source": [
    "### 8. Adaptive Boosting"
   ]
  },
  {
   "cell_type": "code",
   "execution_count": 87,
   "metadata": {
    "collapsed": true
   },
   "outputs": [],
   "source": [
    "?AdaBoostClassifier"
   ]
  },
  {
   "cell_type": "markdown",
   "metadata": {},
   "source": [
    "AdaBoost sama seperti bagging bisa digunakan untuk semua classifiers"
   ]
  },
  {
   "cell_type": "code",
   "execution_count": 88,
   "metadata": {
    "collapsed": true
   },
   "outputs": [],
   "source": [
    "base_estimator = decTree # Kita gunakan decTree hasil Randomized Search pada proses sebelumnya sebagai base_estimators"
   ]
  },
  {
   "cell_type": "code",
   "execution_count": 89,
   "metadata": {
    "collapsed": true
   },
   "outputs": [],
   "source": [
    "def adaboost_fit(x_train, y_train, base_estimator = None, scoring = 'accuracy'):\n",
    "    adaboost = AdaBoostClassifier(base_estimator = base_estimator, n_estimators = 1000, random_state=123)\n",
    "\n",
    "    adaboost.fit(x_train, y_train)\n",
    "    \n",
    "    print \"Accuracy\", adaboost.score(x_train, y_train)\n",
    "    \n",
    "    return adaboost"
   ]
  },
  {
   "cell_type": "code",
   "execution_count": 90,
   "metadata": {
    "collapsed": false
   },
   "outputs": [
    {
     "name": "stdout",
     "output_type": "stream",
     "text": [
      "Accuracy 1.0\n"
     ]
    }
   ],
   "source": [
    "adaboost = adaboost_fit(x_train, y_train, base_estimator = decTree)"
   ]
  },
  {
   "cell_type": "markdown",
   "metadata": {},
   "source": [
    "### 9. Gradient Boosting"
   ]
  },
  {
   "cell_type": "code",
   "execution_count": 91,
   "metadata": {
    "collapsed": true
   },
   "outputs": [],
   "source": [
    "?GradientBoostingClassifier"
   ]
  },
  {
   "cell_type": "code",
   "execution_count": 94,
   "metadata": {
    "collapsed": true
   },
   "outputs": [],
   "source": [
    "def gradBoost_fit(x_train, y_train, scoring = 'accuracy'):\n",
    "    gradBoost = GradientBoostingClassifier(random_state=123)\n",
    "    \n",
    "    hyperparam = {'min_samples_split': [3, 5, 7, 9, 13, 17, 21, 27, 33, 41, 50, 60, 80, 100],\n",
    "                  'max_features': ['sqrt', 'log2', 0.25, 0.5, 0.75], \n",
    "                  'n_estimators': [100, 200, 300, 500, 750, 1000],\n",
    "                  'learning_rate': [0.01, 0.015, 0.02, 0.05, 0.08, 0.1] }\n",
    "    random_gradBoost = RandomizedSearchCV(gradBoost, param_distributions = hyperparam, cv = 5,\n",
    "                                          n_iter = 15, scoring = scoring, n_jobs=-1, \n",
    "                                          random_state = 123, verbose = True)\n",
    "    random_gradBoost.fit(x_train, y_train)\n",
    "    \n",
    "    print \"Best Accuracy\", random_gradBoost.score(x_train, y_train)\n",
    "    print \"Best Param\", random_gradBoost.best_params_\n",
    "    return random_gradBoost"
   ]
  },
  {
   "cell_type": "code",
   "execution_count": 95,
   "metadata": {
    "collapsed": false
   },
   "outputs": [
    {
     "name": "stdout",
     "output_type": "stream",
     "text": [
      "Fitting 5 folds for each of 15 candidates, totalling 75 fits\n"
     ]
    },
    {
     "name": "stderr",
     "output_type": "stream",
     "text": [
      "[Parallel(n_jobs=-1)]: Done  34 tasks      | elapsed:  1.1min\n",
      "[Parallel(n_jobs=-1)]: Done  75 out of  75 | elapsed:  2.5min finished\n"
     ]
    },
    {
     "name": "stdout",
     "output_type": "stream",
     "text": [
      "Best Accuracy 0.860095238095\n",
      "Best Param {'n_estimators': 750, 'min_samples_split': 3, 'learning_rate': 0.1, 'max_features': 0.25}\n"
     ]
    }
   ],
   "source": [
    "best_gradBoost = gradBoost_fit(x_train, y_train)"
   ]
  },
  {
   "cell_type": "code",
   "execution_count": 96,
   "metadata": {
    "collapsed": false
   },
   "outputs": [
    {
     "data": {
      "text/plain": [
       "GradientBoostingClassifier(criterion='friedman_mse', init=None,\n",
       "              learning_rate=0.1, loss='deviance', max_depth=3,\n",
       "              max_features=0.25, max_leaf_nodes=None,\n",
       "              min_impurity_split=1e-07, min_samples_leaf=1,\n",
       "              min_samples_split=3, min_weight_fraction_leaf=0.0,\n",
       "              n_estimators=750, presort='auto', random_state=123,\n",
       "              subsample=1.0, verbose=0, warm_start=False)"
      ]
     },
     "execution_count": 96,
     "metadata": {},
     "output_type": "execute_result"
    }
   ],
   "source": [
    "gradBoost = GradientBoostingClassifier(n_estimators=best_gradBoost.best_params_.get('n_estimators'),\n",
    "                                       min_samples_split = best_gradBoost.best_params_.get('min_samples_split'),\n",
    "                                       max_features = best_gradBoost.best_params_.get('max_features'),\n",
    "                                       learning_rate = best_gradBoost.best_params_.get('learning_rate'), random_state=123)\n",
    "gradBoost.fit(x_train, y_train)"
   ]
  },
  {
   "cell_type": "code",
   "execution_count": null,
   "metadata": {
    "collapsed": true
   },
   "outputs": [],
   "source": []
  },
  {
   "cell_type": "markdown",
   "metadata": {},
   "source": [
    "## Save Model"
   ]
  },
  {
   "cell_type": "code",
   "execution_count": 97,
   "metadata": {
    "collapsed": false
   },
   "outputs": [
    {
     "data": {
      "text/plain": [
       "['model/gradientBoosting.pkl']"
      ]
     },
     "execution_count": 97,
     "metadata": {},
     "output_type": "execute_result"
    }
   ],
   "source": [
    "from sklearn.externals import joblib\n",
    "\n",
    "joblib.dump(knn, 'model/knn.pkl')\n",
    "joblib.dump(logreg, 'model/logreg.pkl')\n",
    "joblib.dump(linSVC, 'model/linearSVC.pkl')\n",
    "joblib.dump(rbfSVC, 'model/rbfSVC.pkl')\n",
    "joblib.dump(decTree, 'model/decisionTree.pkl')\n",
    "joblib.dump(bagging, 'model/bagging.pkl')\n",
    "joblib.dump(randForest, 'model/randomForest.pkl')\n",
    "joblib.dump(adaboost, 'model/adaboost.pkl')\n",
    "joblib.dump(gradBoost, 'model/gradientBoosting.pkl')"
   ]
  },
  {
   "cell_type": "markdown",
   "metadata": {},
   "source": [
    "## Test Model"
   ]
  },
  {
   "cell_type": "code",
   "execution_count": 98,
   "metadata": {
    "collapsed": true
   },
   "outputs": [],
   "source": [
    "def testData(data, numerical_columns, categorical_columns, imput_numerical, standard):\n",
    "    numerical_data = data[numerical_columns]\n",
    "    categorical_data = data[categorical_columns]\n",
    "    \n",
    "    numerical_data = pd.DataFrame(imput_numerical.transform(numerical_data), index = data.index) # imput numerical test\n",
    "    numerical_data.columns = numerical_columns\n",
    "    categorical_data = categorical_data.fillna(value=\"KOSONG\") # imput categorical\n",
    "    categorical_data = pd.get_dummies(categorical_data) # Dummies categorical\n",
    "\n",
    "    x_valid = pd.concat([ numerical_data, categorical_data], axis = 1)\n",
    "    x_valid_transform = pd.DataFrame(standard.transform(x_valid), index = data.index) # standardization\n",
    "    x_valid_transform.columns = x_valid.columns # samakan nama column\n",
    "        \n",
    "    return x_valid_transform"
   ]
  },
  {
   "cell_type": "code",
   "execution_count": 99,
   "metadata": {
    "collapsed": true
   },
   "outputs": [],
   "source": [
    "x_test = testData(  numerical_columns=numerical,\n",
    "                        categorical_columns = categorical,\n",
    "                        data = x_test,\n",
    "                        imput_numerical = imput_numerical,\n",
    "                        standard = normalize)\n"
   ]
  },
  {
   "cell_type": "code",
   "execution_count": 100,
   "metadata": {
    "collapsed": false
   },
   "outputs": [
    {
     "data": {
      "text/plain": [
       "(22500, 34)"
      ]
     },
     "execution_count": 100,
     "metadata": {},
     "output_type": "execute_result"
    }
   ],
   "source": [
    "x_test.shape"
   ]
  },
  {
   "cell_type": "code",
   "execution_count": 101,
   "metadata": {
    "collapsed": false
   },
   "outputs": [
    {
     "data": {
      "text/html": [
       "<div>\n",
       "<table border=\"1\" class=\"dataframe\">\n",
       "  <thead>\n",
       "    <tr style=\"text-align: right;\">\n",
       "      <th></th>\n",
       "      <th>DER_mass_MMC</th>\n",
       "      <th>DER_mass_transverse_met_lep</th>\n",
       "      <th>DER_mass_vis</th>\n",
       "      <th>DER_pt_h</th>\n",
       "      <th>DER_deltaeta_jet_jet</th>\n",
       "      <th>DER_mass_jet_jet</th>\n",
       "      <th>DER_prodeta_jet_jet</th>\n",
       "      <th>DER_deltar_tau_lep</th>\n",
       "      <th>DER_pt_tot</th>\n",
       "      <th>DER_sum_pt</th>\n",
       "      <th>...</th>\n",
       "      <th>PRI_jet_leading_phi</th>\n",
       "      <th>PRI_jet_subleading_pt</th>\n",
       "      <th>PRI_jet_subleading_eta</th>\n",
       "      <th>PRI_jet_subleading_phi</th>\n",
       "      <th>PRI_jet_all_pt</th>\n",
       "      <th>PRI_jet_num_0.0</th>\n",
       "      <th>PRI_jet_num_1.0</th>\n",
       "      <th>PRI_jet_num_2.0</th>\n",
       "      <th>PRI_jet_num_3.0</th>\n",
       "      <th>PRI_jet_num_KOSONG</th>\n",
       "    </tr>\n",
       "  </thead>\n",
       "  <tbody>\n",
       "    <tr>\n",
       "      <th>46241</th>\n",
       "      <td>-0.694906</td>\n",
       "      <td>0.502606</td>\n",
       "      <td>-0.449621</td>\n",
       "      <td>0.757765</td>\n",
       "      <td>2.109294</td>\n",
       "      <td>1.699930</td>\n",
       "      <td>-1.686606</td>\n",
       "      <td>-1.360558</td>\n",
       "      <td>-0.637215</td>\n",
       "      <td>1.077933</td>\n",
       "      <td>...</td>\n",
       "      <td>0.534013</td>\n",
       "      <td>-0.190176</td>\n",
       "      <td>-2.650930</td>\n",
       "      <td>-1.530948</td>\n",
       "      <td>1.077967</td>\n",
       "      <td>-0.808839</td>\n",
       "      <td>-0.663781</td>\n",
       "      <td>2.009093</td>\n",
       "      <td>-0.31063</td>\n",
       "      <td>-0.110738</td>\n",
       "    </tr>\n",
       "    <tr>\n",
       "      <th>49608</th>\n",
       "      <td>-0.478850</td>\n",
       "      <td>-0.183142</td>\n",
       "      <td>-0.043823</td>\n",
       "      <td>-0.828875</td>\n",
       "      <td>-0.088589</td>\n",
       "      <td>-0.186722</td>\n",
       "      <td>0.085091</td>\n",
       "      <td>0.136933</td>\n",
       "      <td>-0.630464</td>\n",
       "      <td>-0.658284</td>\n",
       "      <td>...</td>\n",
       "      <td>-0.010052</td>\n",
       "      <td>-0.158225</td>\n",
       "      <td>-0.004632</td>\n",
       "      <td>0.003937</td>\n",
       "      <td>-0.740701</td>\n",
       "      <td>1.236340</td>\n",
       "      <td>-0.663781</td>\n",
       "      <td>-0.497737</td>\n",
       "      <td>-0.31063</td>\n",
       "      <td>-0.110738</td>\n",
       "    </tr>\n",
       "    <tr>\n",
       "      <th>71696</th>\n",
       "      <td>0.107164</td>\n",
       "      <td>1.031110</td>\n",
       "      <td>0.549006</td>\n",
       "      <td>-0.606415</td>\n",
       "      <td>-0.088589</td>\n",
       "      <td>-0.186722</td>\n",
       "      <td>0.085091</td>\n",
       "      <td>0.064412</td>\n",
       "      <td>0.014118</td>\n",
       "      <td>-0.406469</td>\n",
       "      <td>...</td>\n",
       "      <td>-0.010052</td>\n",
       "      <td>-0.158225</td>\n",
       "      <td>-0.004632</td>\n",
       "      <td>0.003937</td>\n",
       "      <td>-0.740701</td>\n",
       "      <td>1.236340</td>\n",
       "      <td>-0.663781</td>\n",
       "      <td>-0.497737</td>\n",
       "      <td>-0.31063</td>\n",
       "      <td>-0.110738</td>\n",
       "    </tr>\n",
       "    <tr>\n",
       "      <th>25948</th>\n",
       "      <td>-0.115998</td>\n",
       "      <td>-0.865118</td>\n",
       "      <td>0.203990</td>\n",
       "      <td>-0.128894</td>\n",
       "      <td>-0.088589</td>\n",
       "      <td>-0.186722</td>\n",
       "      <td>0.085091</td>\n",
       "      <td>-0.074268</td>\n",
       "      <td>-0.826412</td>\n",
       "      <td>-0.205115</td>\n",
       "      <td>...</td>\n",
       "      <td>-1.228199</td>\n",
       "      <td>-0.158225</td>\n",
       "      <td>-0.004632</td>\n",
       "      <td>0.003937</td>\n",
       "      <td>-0.229463</td>\n",
       "      <td>-0.808839</td>\n",
       "      <td>1.506520</td>\n",
       "      <td>-0.497737</td>\n",
       "      <td>-0.31063</td>\n",
       "      <td>-0.110738</td>\n",
       "    </tr>\n",
       "    <tr>\n",
       "      <th>44163</th>\n",
       "      <td>0.749164</td>\n",
       "      <td>-0.836987</td>\n",
       "      <td>0.624016</td>\n",
       "      <td>-0.602401</td>\n",
       "      <td>-0.088589</td>\n",
       "      <td>-0.186722</td>\n",
       "      <td>0.085091</td>\n",
       "      <td>0.762902</td>\n",
       "      <td>0.025749</td>\n",
       "      <td>-0.603724</td>\n",
       "      <td>...</td>\n",
       "      <td>-0.010052</td>\n",
       "      <td>-0.158225</td>\n",
       "      <td>-0.004632</td>\n",
       "      <td>0.003937</td>\n",
       "      <td>-0.740701</td>\n",
       "      <td>1.236340</td>\n",
       "      <td>-0.663781</td>\n",
       "      <td>-0.497737</td>\n",
       "      <td>-0.31063</td>\n",
       "      <td>-0.110738</td>\n",
       "    </tr>\n",
       "  </tbody>\n",
       "</table>\n",
       "<p>5 rows × 34 columns</p>\n",
       "</div>"
      ],
      "text/plain": [
       "       DER_mass_MMC  DER_mass_transverse_met_lep  DER_mass_vis  DER_pt_h  \\\n",
       "46241     -0.694906                     0.502606     -0.449621  0.757765   \n",
       "49608     -0.478850                    -0.183142     -0.043823 -0.828875   \n",
       "71696      0.107164                     1.031110      0.549006 -0.606415   \n",
       "25948     -0.115998                    -0.865118      0.203990 -0.128894   \n",
       "44163      0.749164                    -0.836987      0.624016 -0.602401   \n",
       "\n",
       "       DER_deltaeta_jet_jet  DER_mass_jet_jet  DER_prodeta_jet_jet  \\\n",
       "46241              2.109294          1.699930            -1.686606   \n",
       "49608             -0.088589         -0.186722             0.085091   \n",
       "71696             -0.088589         -0.186722             0.085091   \n",
       "25948             -0.088589         -0.186722             0.085091   \n",
       "44163             -0.088589         -0.186722             0.085091   \n",
       "\n",
       "       DER_deltar_tau_lep  DER_pt_tot  DER_sum_pt         ...          \\\n",
       "46241           -1.360558   -0.637215    1.077933         ...           \n",
       "49608            0.136933   -0.630464   -0.658284         ...           \n",
       "71696            0.064412    0.014118   -0.406469         ...           \n",
       "25948           -0.074268   -0.826412   -0.205115         ...           \n",
       "44163            0.762902    0.025749   -0.603724         ...           \n",
       "\n",
       "       PRI_jet_leading_phi  PRI_jet_subleading_pt  PRI_jet_subleading_eta  \\\n",
       "46241             0.534013              -0.190176               -2.650930   \n",
       "49608            -0.010052              -0.158225               -0.004632   \n",
       "71696            -0.010052              -0.158225               -0.004632   \n",
       "25948            -1.228199              -0.158225               -0.004632   \n",
       "44163            -0.010052              -0.158225               -0.004632   \n",
       "\n",
       "       PRI_jet_subleading_phi  PRI_jet_all_pt  PRI_jet_num_0.0  \\\n",
       "46241               -1.530948        1.077967        -0.808839   \n",
       "49608                0.003937       -0.740701         1.236340   \n",
       "71696                0.003937       -0.740701         1.236340   \n",
       "25948                0.003937       -0.229463        -0.808839   \n",
       "44163                0.003937       -0.740701         1.236340   \n",
       "\n",
       "       PRI_jet_num_1.0  PRI_jet_num_2.0  PRI_jet_num_3.0  PRI_jet_num_KOSONG  \n",
       "46241        -0.663781         2.009093         -0.31063           -0.110738  \n",
       "49608        -0.663781        -0.497737         -0.31063           -0.110738  \n",
       "71696        -0.663781        -0.497737         -0.31063           -0.110738  \n",
       "25948         1.506520        -0.497737         -0.31063           -0.110738  \n",
       "44163        -0.663781        -0.497737         -0.31063           -0.110738  \n",
       "\n",
       "[5 rows x 34 columns]"
      ]
     },
     "execution_count": 101,
     "metadata": {},
     "output_type": "execute_result"
    }
   ],
   "source": [
    "x_test.head()"
   ]
  },
  {
   "cell_type": "code",
   "execution_count": 103,
   "metadata": {
    "collapsed": true
   },
   "outputs": [],
   "source": [
    "def testPred(x_test, y_test, classifier, compute_score = True):\n",
    "    if compute_score == True:\n",
    "        score = classifier.score(x_test, y_test)\n",
    "        print \"Accuracy\", score\n",
    "        \n",
    "    valid_proba = pd.DataFrame(classifier.predict_proba(x_test)) # hasil prediksi\n",
    "    \n",
    "    return  valid_proba, score"
   ]
  },
  {
   "cell_type": "code",
   "execution_count": 108,
   "metadata": {
    "collapsed": false
   },
   "outputs": [
    {
     "name": "stdout",
     "output_type": "stream",
     "text": [
      "LogReg 0.750888888889\n",
      "KNN 0.788444444444\n",
      "LinearSVC 0.753866666667\n",
      "RBF SVC 0.765555555556\n",
      "Decision Tree 0.795511111111\n",
      "Bagging 0.833155555556\n",
      "RandomForest 0.834533333333\n",
      "AdaBoost 0.832977777778\n",
      "GradientBoost 0.833777777778\n"
     ]
    }
   ],
   "source": [
    "classifiers = [logreg, knn, linSVC, rbfSVC, decTree, bagging, randForest, adaboost, gradBoost]\n",
    "label = ['LogReg', 'KNN', 'LinearSVC', 'RBF SVC', 'Decision Tree', 'Bagging', 'RandomForest', \n",
    "         'AdaBoost', 'GradientBoost']\n",
    "for clf, i in zip(classifiers, label):\n",
    "    print i, clf.score(x_test, y_test)"
   ]
  },
  {
   "cell_type": "code",
   "execution_count": null,
   "metadata": {
    "collapsed": true
   },
   "outputs": [],
   "source": []
  },
  {
   "cell_type": "code",
   "execution_count": null,
   "metadata": {
    "collapsed": true
   },
   "outputs": [],
   "source": []
  }
 ],
 "metadata": {
  "anaconda-cloud": {},
  "celltoolbar": "Slideshow",
  "kernelspec": {
   "display_name": "Python 2",
   "language": "python",
   "name": "python2"
  },
  "language_info": {
   "codemirror_mode": {
    "name": "ipython",
    "version": 2
   },
   "file_extension": ".py",
   "mimetype": "text/x-python",
   "name": "python",
   "nbconvert_exporter": "python",
   "pygments_lexer": "ipython2",
   "version": "2.7.13"
  }
 },
 "nbformat": 4,
 "nbformat_minor": 1
}
